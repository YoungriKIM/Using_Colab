{
  "nbformat": 4,
  "nbformat_minor": 0,
  "metadata": {
    "colab": {
      "name": "samsung_ensemble_0117.py",
      "provenance": [],
      "collapsed_sections": [],
      "authorship_tag": "ABX9TyPd4PXmkYh+gey5H9D5+7ep",
      "include_colab_link": true
    },
    "kernelspec": {
      "name": "python3",
      "display_name": "Python 3"
    }
  },
  "cells": [
    {
      "cell_type": "markdown",
      "metadata": {
        "id": "view-in-github",
        "colab_type": "text"
      },
      "source": [
        "<a href=\"https://colab.research.google.com/github/YoungriKIM/Using_Colab/blob/main/samsung_ensemble_0117_py.ipynb\" target=\"_parent\"><img src=\"https://colab.research.google.com/assets/colab-badge.svg\" alt=\"Open In Colab\"/></a>"
      ]
    },
    {
      "cell_type": "code",
      "metadata": {
        "colab": {
          "base_uri": "https://localhost:8080/"
        },
        "id": "p0IlLf9pXsZL",
        "outputId": "4b3a866a-5853-4762-f9cd-a4e0a61cd39b"
      },
      "source": [
        "import numpy as np\r\n",
        "\r\n",
        "# 데이터 불러오기 colab \r\n",
        "x1_train = np.load('/content/drive/My Drive/colab_data/ensemble_data_ss.npy', allow_pickle=True)[0]\r\n",
        "x1_val = np.load('/content/drive/My Drive/colab_data/ensemble_data_ss.npy', allow_pickle=True)[1]\r\n",
        "x1_test = np.load('/content/drive/My Drive/colab_data/ensemble_data_ss.npy', allow_pickle=True)[2]\r\n",
        "x1_pred = np.load('/content/drive/My Drive/colab_data/ensemble_data_ss.npy', allow_pickle=True)[3]\r\n",
        "\r\n",
        "x2_train = np.load('/content/drive/My Drive/colab_data/ensemble_data_kodex.npy', allow_pickle=True)[0]\r\n",
        "y2_train = np.load('/content/drive/My Drive/colab_data/ensemble_data_kodex.npy', allow_pickle=True)[1]\r\n",
        "x2_val = np.load('/content/drive/My Drive/colab_data/ensemble_data_kodex.npy', allow_pickle=True)[2]\r\n",
        "y2_val = np.load('/content/drive/My Drive/colab_data/ensemble_data_kodex.npy', allow_pickle=True)[3]\r\n",
        "x2_test = np.load('/content/drive/My Drive/colab_data/ensemble_data_kodex.npy', allow_pickle=True)[4]\r\n",
        "y2_test = np.load('/content/drive/My Drive/colab_data/ensemble_data_kodex.npy', allow_pickle=True)[5]\r\n",
        "x2_pred = np.load('/content/drive/My Drive/colab_data/ensemble_data_kodex.npy', allow_pickle=True)[6]\r\n",
        "\r\n",
        "from tensorflow.keras.models import load_model\r\n",
        "model = load_model('/content/drive/My Drive/colab_data/modelcheckpoint/ss_ensemble_33-18186410.000000.hdf5')\r\n",
        "\r\n",
        "# # 데이터 불러오기 main\r\n",
        "# x1_train = np.load('../data/npy/ensemble_data_ss.npy', allow_pickle=True)[0]\r\n",
        "# x1_val = np.load('../data/npy/ensemble_data_ss.npy', allow_pickle=True)[1]\r\n",
        "# x1_test = np.load('../data/npy/ensemble_data_ss.npy', allow_pickle=True)[2]\r\n",
        "# x1_pred = np.load('../data/npy/ensemble_data_ss.npy', allow_pickle=True)[3]\r\n",
        "\r\n",
        "# x2_train = np.load('../data/npy/ensemble_data_kodex.npy', allow_pickle=True)[0]\r\n",
        "# y2_train = np.load('../data/npy/ensemble_data_kodex.npy', allow_pickle=True)[1]\r\n",
        "# x2_val = np.load('../data/npy/ensemble_data_kodex.npy', allow_pickle=True)[2]\r\n",
        "# y2_val = np.load('../data/npy/ensemble_data_kodex.npy', allow_pickle=True)[3]\r\n",
        "# x2_test = np.load('../data/npy//ensemble_data_kodex.npy', allow_pickle=True)[4]\r\n",
        "# y2_test = np.load('../data/npy/ensemble_data_kodex.npy', allow_pickle=True)[5]\r\n",
        "# x2_pred = np.load('../data/npy/ensemble_data_kodex.npy', allow_pickle=True)[6]\r\n",
        "\r\n",
        "# from tensorflow.keras.models import load_model\r\n",
        "# model = load_model('../data/modelcheckpoint/ss_ensemble_33-18186410.000000.hdf5')\r\n",
        "\r\n",
        "#4. 평가, 예측\r\n",
        "result = model.evaluate([x1_test, x2_test], y2_test, batch_size=2)\r\n",
        "print('mse: ', format(result[0], ','))\r\n",
        "print('mae: ', format(result[1], ','))\r\n",
        "\r\n",
        "y_pred = model.predict([x1_pred, x2_pred])\r\n",
        "print('1/18일, 19일 삼성주식 시가는: ', y_pred, '입니다.')\r\n",
        "\r\n",
        "# mse:  2,158,383.0\r\n",
        "# mae:  1,120.3511962890625\r\n",
        "# 1/18일, 19일 삼성주식 시가는:  [[86808.78 89137.08]] 입니다."
      ],
      "execution_count": 8,
      "outputs": [
        {
          "output_type": "stream",
          "text": [
            "50/50 [==============================] - 0s 2ms/step - loss: 2158383.0000 - mae: 1120.3512\n",
            "mse:  2,158,383.0\n",
            "mae:  1,120.3511962890625\n",
            "WARNING:tensorflow:7 out of the last 7 calls to <function Model.make_predict_function.<locals>.predict_function at 0x7fe4958ae268> triggered tf.function retracing. Tracing is expensive and the excessive number of tracings could be due to (1) creating @tf.function repeatedly in a loop, (2) passing tensors with different shapes, (3) passing Python objects instead of tensors. For (1), please define your @tf.function outside of the loop. For (2), @tf.function has experimental_relax_shapes=True option that relaxes argument shapes that can avoid unnecessary retracing. For (3), please refer to https://www.tensorflow.org/guide/function#controlling_retracing and https://www.tensorflow.org/api_docs/python/tf/function for  more details.\n",
            "1/18일, 19일 삼성주식 시가는:  [[86808.78 89137.08]] 입니다.\n"
          ],
          "name": "stdout"
        }
      ]
    }
  ]
}