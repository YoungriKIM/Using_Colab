{
  "nbformat": 4,
  "nbformat_minor": 0,
  "metadata": {
    "colab": {
      "name": "keras41_cnn3_cancer_re.py",
      "provenance": [],
      "collapsed_sections": [],
      "authorship_tag": "ABX9TyPHYbsd7W5SnynRbgC3vgBA",
      "include_colab_link": true
    },
    "kernelspec": {
      "name": "python3",
      "display_name": "Python 3"
    }
  },
  "cells": [
    {
      "cell_type": "markdown",
      "metadata": {
        "id": "view-in-github",
        "colab_type": "text"
      },
      "source": [
        "<a href=\"https://colab.research.google.com/github/YoungriKIM/Using_Colab/blob/main/keras41_cnn3_cancer_re_py.ipynb\" target=\"_parent\"><img src=\"https://colab.research.google.com/assets/colab-badge.svg\" alt=\"Open In Colab\"/></a>"
      ]
    },
    {
      "cell_type": "code",
      "metadata": {
        "id": "yvM6HsXoBREA"
      },
      "source": [
        "# CNN으로 구성하시오/ 2차원을 4차원으로 늘려서 하시오.\r\n",
        "\r\n",
        "import numpy as np\r\n",
        "from tensorflow.keras.models import Sequential, Model\r\n",
        "from tensorflow.keras.layers import Dense, Input, Dropout, Conv2D, Flatten\r\n",
        "\r\n",
        "#1. 데이터 주고\r\n",
        "from sklearn.datasets import load_breast_cancer\r\n",
        "dataset = load_breast_cancer()\r\n",
        "x = dataset.data\r\n",
        "y = dataset.target\r\n",
        "\r\n",
        "#전처리(y벡터화, 트레인테스트나누기, 민맥스스케일러)\r\n",
        "from tensorflow.keras.utils import to_categorical\r\n",
        "y = to_categorical(y)\r\n",
        "\r\n",
        "from sklearn.model_selection import train_test_split\r\n",
        "x_train, x_test, y_train, y_test = train_test_split(x, y, train_size=0.8, shuffle=True, random_state=33)\r\n",
        "\r\n",
        "from sklearn.model_selection import train_test_split\r\n",
        "x_train, x_val, y_train, y_val = train_test_split(x_train, y_train, test_size=0.2, shuffle=True, random_state=33)\r\n",
        "\r\n",
        "from sklearn.preprocessing import MinMaxScaler\r\n",
        "scaler = MinMaxScaler()\r\n",
        "scaler.fit(x_train)\r\n",
        "x_train = scaler.transform(x_train)\r\n",
        "x_val = scaler.transform(x_val)\r\n",
        "x_test = scaler.transform(x_test)\r\n",
        "\r\n",
        "x_train = x_train.reshape(x_train.shape[0], 15, 2 ,1)\r\n",
        "x_val = x_val.reshape(x_val.shape[0], 15, 2 ,1)\r\n",
        "x_test = x_test.reshape(x_test.shape[0], 15, 2 ,1)\r\n",
        "\r\n",
        "# print(x_train.shape)            #(364, 15, 2, 1)\r\n",
        "# print(x_val.shape)              #(91, 15, 2, 1)\r\n",
        "# print(x_test.shape)             #(114, 15, 2, 1)\r\n",
        "\r\n",
        "#모델 구성\r\n",
        "input1 = Input(shape=(15, 2, 1))\r\n",
        "conv1 = Conv2D(filters=120, kernel_size=(3,2), strides=1, padding='same')(input1)\r\n",
        "drop1 = Dropout(0.2)(conv1)\r\n",
        "conv1 = Conv2D(90, (3,2))(drop1)\r\n",
        "flat1 = Flatten()(conv1)\r\n",
        "dense1 = Dense(60)(flat1)\r\n",
        "dense1 = Dense(60)(dense1)\r\n",
        "dense1 = Dense(60)(dense1)\r\n",
        "output1 = Dense(2)(dense1)\r\n",
        "model = Model(inputs = input1, outputs = output1)\r\n",
        "\r\n",
        "#컴파일, 훈련\r\n",
        "model.compile(loss='binary_crossentropy', optimizer='adam', metrics=['acc'])\r\n",
        "\r\n",
        "from tensorflow.keras.callbacks import EarlyStopping\r\n",
        "stop = EarlyStopping(monitor='loss', patience=5, mode='min')\r\n",
        "model.fit(x_train, y_train, epochs=1000, batch_size=30, validation_data=(x_val, y_val), verbose=2, callbacks=[stop])\r\n",
        "\r\n",
        "#검증, 예측\r\n",
        "loss = model.evaluate(x_test, y_test, batch_size=10)\r\n",
        "print('loss: ', loss)\r\n",
        "\r\n",
        "y_predict = model.predict(x_test[-5:-1])\r\n",
        "\r\n",
        "print('y_predict_argmax: ', y_predict.argmax(axis=1))\r\n",
        "print('y_test[-5:-1]: ',y_test[-5:-1].argmax(axis=1))\r\n",
        "\r\n",
        "# 38-3 드랍아웃 두 번 적용 (더 좋아짐)\r\n",
        "# loss:  [0.117403045296669, 0.9736841917037964]\r\n",
        "\r\n",
        "# 41-3 cancer CNN\r\n",
        "# loss:  [0.3340015709400177, 0.9736841917037964]\r\n",
        "# y_predict_argmax:  [0 1 0 1]\r\n",
        "# y_test[-5:-1]:  [0 1 0 1]"
      ],
      "execution_count": null,
      "outputs": []
    }
  ]
}