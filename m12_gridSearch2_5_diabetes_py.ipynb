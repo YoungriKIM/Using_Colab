{
  "nbformat": 4,
  "nbformat_minor": 0,
  "metadata": {
    "colab": {
      "name": "m12_gridSearch2_5_diabetes.py",
      "provenance": [],
      "authorship_tag": "ABX9TyPXN7kZlDE+R4YaKDLnFmuw",
      "include_colab_link": true
    },
    "kernelspec": {
      "name": "python3",
      "display_name": "Python 3"
    }
  },
  "cells": [
    {
      "cell_type": "markdown",
      "metadata": {
        "id": "view-in-github",
        "colab_type": "text"
      },
      "source": [
        "<a href=\"https://colab.research.google.com/github/YoungriKIM/Using_Colab/blob/main/m12_gridSearch2_5_diabetes_py.ipynb\" target=\"_parent\"><img src=\"https://colab.research.google.com/assets/colab-badge.svg\" alt=\"Open In Colab\"/></a>"
      ]
    },
    {
      "cell_type": "code",
      "metadata": {
        "id": "zehfyJLWiZpX",
        "colab": {
          "base_uri": "https://localhost:8080/"
        },
        "outputId": "d221f6f1-6470-4661-d8d2-e4e3446b7483"
      },
      "source": [
        "import numpy as np\r\n",
        "from sklearn.datasets import load_diabetes\r\n",
        "from sklearn.preprocessing import MinMaxScaler, StandardScaler\r\n",
        "from sklearn.model_selection import train_test_split, KFold, cross_val_score, GridSearchCV\r\n",
        "from sklearn.metrics import accuracy_score, r2_score\r\n",
        "import timeit\r\n",
        "from sklearn.ensemble import RandomForestClassifier, RandomForestRegressor\r\n",
        "\r\n",
        "#1. 데이터 불러오기\r\n",
        "dataset = load_diabetes()\r\n",
        "x = dataset.data\r\n",
        "y = dataset.target\r\n",
        "\r\n",
        "x_train, x_test, y_train, y_test = train_test_split(x, y, train_size=0.8, random_state=311)\r\n",
        "\r\n",
        "kfold = KFold(n_splits=5, shuffle=True)\r\n",
        "\r\n",
        "parameters = [\r\n",
        "    {'n_estimators' : [100,200], 'n_jobs' : [-1,2,4], 'max_depth' : [6,8,10,12]},\r\n",
        "    {'max_depth' : [6,8,10,12], 'min_samples_split' : [2,3,5,10]},\r\n",
        "    {'min_samples_split' : [2,3,5,10], 'n_estimators' : [100,200]},\r\n",
        "    {'n_jobs' : [-1,3,6], 'min_samples_leaf' : [3,5,7,10]},\r\n",
        "    {'max_depth' : [6,8,10,12], 'min_samples_leaf' : [3,5,7,10], 'min_samples_split' : [2,3,5,10]},\r\n",
        "    {'n_estimators' : [100,200]},\r\n",
        "    {'n_jobs' : [-1,2,4]}\r\n",
        "]\r\n",
        "\r\n",
        "#2. 모델 구성\r\n",
        "#--------------------------------------------------------------------------------\r\n",
        "start_time = timeit.default_timer()\r\n",
        "#--------------------------------------------------------------------------------\r\n",
        "\r\n",
        "model = GridSearchCV(RandomForestRegressor(), parameters, cv = kfold)\r\n",
        "\r\n",
        "#3. 훈련\r\n",
        "model.fit(x_train, y_train)\r\n",
        "\r\n",
        "#4. 평가, 예측\r\n",
        "print('최적의 매개변수: ', model.best_estimator_)\r\n",
        "\r\n",
        "y_pred = model.predict(x_test)\r\n",
        "print('최종정답률: ', r2_score(y_pred, y_test))\r\n",
        "\r\n",
        "#--------------------------------------------------------------------------------\r\n",
        "end_time = timeit.default_timer()\r\n",
        "print('%f초 걸렸습니다.' % (end_time - start_time))\r\n",
        "#--------------------------------------------------------------------------------"
      ],
      "execution_count": 20,
      "outputs": [
        {
          "output_type": "stream",
          "text": [
            "최적의 매개변수:  RandomForestRegressor(bootstrap=True, ccp_alpha=0.0, criterion='mse',\n",
            "                      max_depth=10, max_features='auto', max_leaf_nodes=None,\n",
            "                      max_samples=None, min_impurity_decrease=0.0,\n",
            "                      min_impurity_split=None, min_samples_leaf=10,\n",
            "                      min_samples_split=2, min_weight_fraction_leaf=0.0,\n",
            "                      n_estimators=100, n_jobs=None, oob_score=False,\n",
            "                      random_state=None, verbose=0, warm_start=False)\n",
            "최종정답률:  -0.21426695945023932\n",
            "189.632423초 걸렸습니다.\n"
          ],
          "name": "stdout"
        }
      ]
    }
  ]
}