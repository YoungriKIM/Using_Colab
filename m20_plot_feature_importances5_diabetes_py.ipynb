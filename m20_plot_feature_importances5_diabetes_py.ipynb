{
  "nbformat": 4,
  "nbformat_minor": 0,
  "metadata": {
    "colab": {
      "name": "m20_plot_feature_importances5_diabetes.py",
      "provenance": [],
      "authorship_tag": "ABX9TyPfbIOkvhMx6FgCNkf5Zw/l",
      "include_colab_link": true
    },
    "kernelspec": {
      "name": "python3",
      "display_name": "Python 3"
    },
    "accelerator": "GPU"
  },
  "cells": [
    {
      "cell_type": "markdown",
      "metadata": {
        "id": "view-in-github",
        "colab_type": "text"
      },
      "source": [
        "<a href=\"https://colab.research.google.com/github/YoungriKIM/Using_Colab/blob/main/m20_plot_feature_importances5_diabetes_py.ipynb\" target=\"_parent\"><img src=\"https://colab.research.google.com/assets/colab-badge.svg\" alt=\"Open In Colab\"/></a>"
      ]
    },
    {
      "cell_type": "code",
      "metadata": {
        "id": "zehfyJLWiZpX",
        "colab": {
          "base_uri": "https://localhost:8080/",
          "height": 314
        },
        "outputId": "8577a962-b052-4e4f-9dd0-30ee423947cb"
      },
      "source": [
        "from sklearn.tree import DecisionTreeClassifier\r\n",
        "from sklearn.datasets import load_iris\r\n",
        "from sklearn.model_selection import train_test_split\r\n",
        "import matplotlib.pyplot as plt\r\n",
        "import numpy as np\r\n",
        "\r\n",
        "\r\n",
        "dataset = load_iris()\r\n",
        "\r\n",
        "x_train,x_test,y_train,y_test = train_test_split(dataset.data,dataset.target,train_size = 0.8, random_state = 311)\r\n",
        "\r\n",
        "model = DecisionTreeClassifier(max_depth = 4)\r\n",
        "\r\n",
        "model.fit(x_train, y_train)\r\n",
        "\r\n",
        "print('acc score: ', model.score(x_test, y_test))\r\n",
        "\r\n",
        "print(model.feature_importances_)\r\n",
        "\r\n",
        "def plot_feature_importances_dataset(model):\r\n",
        "    n_features = dataset.data.shape[1]\r\n",
        "    plt.barh(np.arange(n_features), model.feature_importances_, align = 'center')\r\n",
        "    plt.yticks(np.arange(n_features), dataset.feature_names)\r\n",
        "    plt.xlabel('Feature Importances')\r\n",
        "    plt.ylabel('Features')\r\n",
        "    plt.ylim(-1, n_features)\r\n",
        "\r\n",
        "plot_feature_importances_dataset(model)\r\n",
        "plt.show()\r\n"
      ],
      "execution_count": 34,
      "outputs": [
        {
          "output_type": "stream",
          "text": [
            "acc score:  0.9666666666666667\n",
            "[0.         0.03672022 0.38455518 0.5787246 ]\n"
          ],
          "name": "stdout"
        },
        {
          "output_type": "display_data",
          "data": {
            "image/png": "[encoded data removed]",
            "text/plain": [
              "<Figure size 432x288 with 1 Axes>"
            ]
          },
          "metadata": {
            "tags": [],
            "needs_background": "light"
          }
        }
      ]
    }
  ]
}