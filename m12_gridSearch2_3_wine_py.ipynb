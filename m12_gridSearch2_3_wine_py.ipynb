{
  "nbformat": 4,
  "nbformat_minor": 0,
  "metadata": {
    "colab": {
      "name": "m12_gridSearch2_3_wine.py",
      "provenance": [],
      "authorship_tag": "ABX9TyNqP+Czsc3cbsEWhs670cYy",
      "include_colab_link": true
    },
    "kernelspec": {
      "name": "python3",
      "display_name": "Python 3"
    }
  },
  "cells": [
    {
      "cell_type": "markdown",
      "metadata": {
        "id": "view-in-github",
        "colab_type": "text"
      },
      "source": [
        "<a href=\"https://colab.research.google.com/github/YoungriKIM/Using_Colab/blob/main/m12_gridSearch2_3_wine_py.ipynb\" target=\"_parent\"><img src=\"https://colab.research.google.com/assets/colab-badge.svg\" alt=\"Open In Colab\"/></a>"
      ]
    },
    {
      "cell_type": "code",
      "metadata": {
        "id": "zehfyJLWiZpX",
        "colab": {
          "base_uri": "https://localhost:8080/"
        },
        "outputId": "48fc0a5a-0cce-47e9-9352-eb96971532fe"
      },
      "source": [
        "import numpy as np\r\n",
        "from sklearn.datasets import load_wine\r\n",
        "from sklearn.model_selection import train_test_split, KFold, cross_val_score, GridSearchCV\r\n",
        "from sklearn.ensemble import RandomForestClassifier\r\n",
        "import timeit\r\n",
        "import warnings\r\n",
        "warnings.filterwarnings('ignore')\r\n",
        "\r\n",
        "dataset = load_wine()\r\n",
        "x = dataset.data\r\n",
        "y = dataset.target\r\n",
        "\r\n",
        "x_train, x_test, y_train, y_test = train_test_split(x, y, train_size=0.8, random_state=311)\r\n",
        "\r\n",
        "kfold = KFold(n_splits=5, shuffle=True)\r\n",
        "\r\n",
        "parameters = [\r\n",
        "              {'n_estimators' : [100,200]},\r\n",
        "              {'max_depth' : [6,8,10,12]},\r\n",
        "              {'min_samples_leaf' : [3,5,7,10]},\r\n",
        "              {'n_jobs' : [-1,2,4]}\r\n",
        "]\r\n",
        "\r\n",
        "start_t = timeit.default_timer()\r\n",
        "\r\n",
        "model = GridSearchCV(RandomForestClassifier(), parameters, cv = kfold)\r\n",
        "\r\n",
        "model.fit(x_train, y_train)\r\n",
        "\r\n",
        "print('best_parameter: ', model.best_estimator_)\r\n",
        "\r\n",
        "y_pred = model.predict(x_test)\r\n",
        "print('score: ', accuracy_score(y_pred, y_test))\r\n",
        "\r\n",
        "end_t = timeit.default_timer()\r\n",
        "print('%f초 걸림' % (end_t - start_t))"
      ],
      "execution_count": 25,
      "outputs": [
        {
          "output_type": "stream",
          "text": [
            "best_parameter:  RandomForestClassifier(bootstrap=True, ccp_alpha=0.0, class_weight=None,\n",
            "                       criterion='gini', max_depth=None, max_features='auto',\n",
            "                       max_leaf_nodes=None, max_samples=None,\n",
            "                       min_impurity_decrease=0.0, min_impurity_split=None,\n",
            "                       min_samples_leaf=1, min_samples_split=2,\n",
            "                       min_weight_fraction_leaf=0.0, n_estimators=100, n_jobs=2,\n",
            "                       oob_score=False, random_state=None, verbose=0,\n",
            "                       warm_start=False)\n",
            "score:  0.9722222222222222\n",
            "13.846112초 걸림\n"
          ],
          "name": "stdout"
        }
      ]
    }
  ]
}