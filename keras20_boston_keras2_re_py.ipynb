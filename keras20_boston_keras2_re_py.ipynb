{
  "nbformat": 4,
  "nbformat_minor": 0,
  "metadata": {
    "colab": {
      "name": "keras20_boston_keras2_re.py",
      "provenance": [],
      "collapsed_sections": [],
      "authorship_tag": "ABX9TyNYoeDu8W4id+BGll6hxnjm",
      "include_colab_link": true
    },
    "kernelspec": {
      "name": "python3",
      "display_name": "Python 3"
    }
  },
  "cells": [
    {
      "cell_type": "markdown",
      "metadata": {
        "id": "view-in-github",
        "colab_type": "text"
      },
      "source": [
        "<a href=\"https://colab.research.google.com/github/YoungriKIM/Using_Colab/blob/main/keras20_boston_keras2_re_py.ipynb\" target=\"_parent\"><img src=\"https://colab.research.google.com/assets/colab-badge.svg\" alt=\"Open In Colab\"/></a>"
      ]
    },
    {
      "cell_type": "code",
      "metadata": {
        "id": "SQgJDDmzekoG"
      },
      "source": [
        "import numpy as np\r\n",
        "\r\n",
        "#데이터 불러오기\r\n",
        "from tensorflow.keras.datasets import boston_housing\r\n",
        "(train_data, train_target), (test_data, test_target) = boston_housing.load_data()\r\n",
        "x_train = train_data\r\n",
        "y_train = train_target\r\n",
        "x_test = test_data\r\n",
        "y_test = test_target\r\n",
        "\r\n",
        "print(x_train.shape) #(404, 13)\r\n",
        "\r\n",
        "from sklearn.model_selection import train_test_split\r\n",
        "x_train, x_val, y_train, y_val = train_test_split(x_train, y_train, train_size=0.8, shuffle=True, random_state=311)\r\n",
        "\r\n",
        "#모델 구성\r\n",
        "from tensorflow.keras.models import Sequential, Model\r\n",
        "from tensorflow.keras.layers import Dense, Input\r\n",
        "\r\n",
        "input1 = Input(shape=(13,))\r\n",
        "dense1 = Dense(60)(input1)\r\n",
        "dense1 = Dense(60)(dense1)\r\n",
        "dense1 = Dense(30)(dense1)\r\n",
        "dense1 = Dense(30)(dense1)\r\n",
        "output1 = Dense(1)(dense1)\r\n",
        "model = Model(inputs = input1, outputs = output1)\r\n",
        "\r\n",
        "#컴파일, 학습\r\n",
        "model.compile(loss='mse', optimizer='adam', metrics=['mae'])\r\n",
        "\r\n",
        "from tensorflow.keras.callbacks import EarlyStopping\r\n",
        "early_stopping = EarlyStopping(monitor='loss', patience=30, mode='min')\r\n",
        "model.fit(x_train, y_train, epochs=1000, batch_size=4, validation_data=(x_val, y_val), verbose=2, callbacks=[early_stopping])\r\n",
        "\r\n",
        "\r\n",
        "#평가, 훈련\r\n",
        "loss, mae = model.evaluate(x_test, y_test, batch_size=2)\r\n",
        "print('loss, mae: ', loss, mae)\r\n",
        "\r\n",
        "y_predict = model.predict(x_test)\r\n",
        "\r\n",
        "from sklearn.metrics import mean_squared_error\r\n",
        "def RMSE(y_test, y_predict):\r\n",
        "    return np.sqrt(mean_squared_error(y_test, y_predict))\r\n",
        "print('RMSE: ', RMSE(y_test, y_predict))\r\n",
        "\r\n",
        "from sklearn.metrics import r2_score\r\n",
        "R2 = r2_score(y_test, y_predict)\r\n",
        "print('R2: ', R2)\r\n",
        "\r\n",
        "# loss, mae:  26.973861694335938 3.72379207611084\r\n",
        "# RMSE:  5.193636507193553\r\n",
        "# R2:  0.6759657242127899"
      ],
      "execution_count": null,
      "outputs": []
    }
  ]
}