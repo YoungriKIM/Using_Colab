{
  "nbformat": 4,
  "nbformat_minor": 0,
  "metadata": {
    "colab": {
      "name": "m10_3 homework",
      "provenance": [],
      "authorship_tag": "ABX9TyN9qJA3IQOvWoSCGtwauD5t",
      "include_colab_link": true
    },
    "kernelspec": {
      "name": "python3",
      "display_name": "Python 3"
    }
  },
  "cells": [
    {
      "cell_type": "markdown",
      "metadata": {
        "id": "view-in-github",
        "colab_type": "text"
      },
      "source": [
        "<a href=\"https://colab.research.google.com/github/YoungriKIM/Using_Colab/blob/main/m10_3_homework.ipynb\" target=\"_parent\"><img src=\"https://colab.research.google.com/assets/colab-badge.svg\" alt=\"Open In Colab\"/></a>"
      ]
    },
    {
      "cell_type": "code",
      "metadata": {
        "id": "zehfyJLWiZpX",
        "colab": {
          "base_uri": "https://localhost:8080/"
        },
        "outputId": "bebc7040-f930-4dcb-dcb2-f4a3b7b6ea4d"
      },
      "source": [
        "from sklearn.datasets import load_iris\r\n",
        "from sklearn.model_selection import train_test_split, KFold, cross_val_score\r\n",
        "from sklearn.preprocessing import MinMaxScaler, StandardScaler\r\n",
        "from sklearn.ensemble import RandomForestClassifier\r\n",
        "from sklearn.svm import SVC\r\n",
        "import warnings\r\n",
        "warnings.filterwarnings('ignore')\r\n",
        "\r\n",
        "dataset = load_iris()\r\n",
        "x = dataset.data\r\n",
        "y = dataset.target\r\n",
        "\r\n",
        "kfold = KFold(n_splits=5, shuffle=True)\r\n",
        "\r\n",
        "for train_index, test_index in kfold.split(x):\r\n",
        "    x_train, x_test = x[train_index], x[test_index]\r\n",
        "    y_train, y_test = y[train_index], y[test_index]\r\n",
        "\r\n",
        "scaler = MinMaxScaler()\r\n",
        "scaler.fit(x_train)\r\n",
        "x_train = scaler.transform(x_train)\r\n",
        "x_test = scaler.transform(x_test)\r\n",
        "\r\n",
        "model = SVC()\r\n",
        "\r\n",
        "score = cross_val_score(model, x_train, y_train, cv = kfold)\r\n",
        "print(score)"
      ],
      "execution_count": 19,
      "outputs": [
        {
          "output_type": "stream",
          "text": [
            "[1.         0.95833333 1.         0.95833333 0.91666667]\n"
          ],
          "name": "stdout"
        }
      ]
    }
  ]
}