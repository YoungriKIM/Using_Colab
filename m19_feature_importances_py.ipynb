{
  "nbformat": 4,
  "nbformat_minor": 0,
  "metadata": {
    "colab": {
      "name": "m19_feature_importances.py",
      "provenance": [],
      "authorship_tag": "ABX9TyPDW7W9MuhkDx1wJA++otVJ",
      "include_colab_link": true
    },
    "kernelspec": {
      "name": "python3",
      "display_name": "Python 3"
    },
    "accelerator": "GPU"
  },
  "cells": [
    {
      "cell_type": "markdown",
      "metadata": {
        "id": "view-in-github",
        "colab_type": "text"
      },
      "source": [
        "<a href=\"https://colab.research.google.com/github/YoungriKIM/Using_Colab/blob/main/m19_feature_importances_py.ipynb\" target=\"_parent\"><img src=\"https://colab.research.google.com/assets/colab-badge.svg\" alt=\"Open In Colab\"/></a>"
      ]
    },
    {
      "cell_type": "code",
      "metadata": {
        "id": "zehfyJLWiZpX",
        "colab": {
          "base_uri": "https://localhost:8080/"
        },
        "outputId": "03e3afd2-de82-413d-f2f3-1bbca08bd70b"
      },
      "source": [
        "from sklearn.tree import DecisionTreeClassifier\r\n",
        "from sklearn.datasets import load_iris\r\n",
        "from sklearn.model_selection import train_test_split\r\n",
        "\r\n",
        "dataset = load_iris()\r\n",
        "x_train,x_test,y_train,y_test = train_test_split(dataset.data,dataset.target,train_size = 0.8, random_state = 33)\r\n",
        "\r\n",
        "model = DecisionTreeClassifier(max_depth = 4)\r\n",
        "\r\n",
        "model.fit(x_train, y_train)\r\n",
        "\r\n",
        "print('acc score: ', model.score(x_test, y_test))\r\n",
        "\r\n",
        "print(model.feature_importances_)"
      ],
      "execution_count": 3,
      "outputs": [
        {
          "output_type": "stream",
          "text": [
            "acc score:  0.8666666666666667\n",
            "[0.02899179 0.         0.57459774 0.39641047]\n"
          ],
          "name": "stdout"
        }
      ]
    }
  ]
}