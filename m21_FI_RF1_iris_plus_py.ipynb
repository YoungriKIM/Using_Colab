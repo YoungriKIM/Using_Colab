{
  "nbformat": 4,
  "nbformat_minor": 0,
  "metadata": {
    "colab": {
      "name": "m21_FI_RF1_iris_plus.py",
      "provenance": [],
      "collapsed_sections": [],
      "authorship_tag": "ABX9TyOr0nCCSzPEXNczCDHL63nS",
      "include_colab_link": true
    },
    "kernelspec": {
      "name": "python3",
      "display_name": "Python 3"
    },
    "accelerator": "GPU"
  },
  "cells": [
    {
      "cell_type": "markdown",
      "metadata": {
        "id": "view-in-github",
        "colab_type": "text"
      },
      "source": [
        "<a href=\"https://colab.research.google.com/github/YoungriKIM/Using_Colab/blob/main/m21_FI_RF1_iris_plus_py.ipynb\" target=\"_parent\"><img src=\"https://colab.research.google.com/assets/colab-badge.svg\" alt=\"Open In Colab\"/></a>"
      ]
    },
    {
      "cell_type": "code",
      "metadata": {
        "id": "zehfyJLWiZpX",
        "colab": {
          "base_uri": "https://localhost:8080/",
          "height": 455
        },
        "outputId": "e6f25244-2505-4bd1-9992-1cbbe18c4f18"
      },
      "source": [
        "# feature_importances_를 이용해 칼럼별 중요도를 그래프로 출력해보고\r\n",
        "# 중요도가 적은 칼럼을 삭제하여 기존과 비교해보자\r\n",
        "\r\n",
        "import numpy as np\r\n",
        "import pandas as pd\r\n",
        "from sklearn.datasets import load_iris\r\n",
        "from sklearn.model_selection import train_test_split\r\n",
        "from sklearn.ensemble import RandomForestClassifier\r\n",
        "import matplotlib.pyplot as plt\r\n",
        "import warnings\r\n",
        "warnings.filterwarnings('ignore')\r\n",
        "\r\n",
        "#1. 데이터 지정, 전처리\r\n",
        "datasets = load_iris()\r\n",
        "x = dataset.data\r\n",
        "y = dataset.target\r\n",
        "x_train,x_test,y_train,y_test = train_test_split(x, y, test_size=0.2, random_state=519)\r\n",
        "\r\n",
        "#2. 모델(모델1)\r\n",
        "model = RandomForestClassifier()\r\n",
        "\r\n",
        "#3. 컴파일ㄴ 훈련ㅇ\r\n",
        "model.fit(x_train, y_train)\r\n",
        "\r\n",
        "#4. 평가(스코어)\r\n",
        "score_1 = model.score(x_test, y_test)\r\n",
        "print('feature_names_1: \\n', dataset.feature_names)\r\n",
        "print('importances_1 : \\n', model.feature_importances_)\r\n",
        "print('score_1: ', score_1)\r\n",
        "\r\n",
        "# 중요도 그래프 그리기(솎기 전)\r\n",
        "def plot_feature_importances_datasets(model):\r\n",
        "    n_features = x.shape[1]\r\n",
        "    plt.barh(np.arange(n_features), model.feature_importances_, align = 'center')\r\n",
        "    plt.yticks(n_features, dataset.feature_names)\r\n",
        "    plt.xlabel('Feature Importances')\r\n",
        "    plt.ylabel('Features')\r\n",
        "    plt.ylim(-1, n_features)\r\n",
        "\r\n",
        "plot_feature_importances_dataset(model)\r\n",
        "plt.show()\r\n",
        "\r\n",
        "# 남길 개수 정하고 솎는 함수(수현)\r\n",
        "def cut_columns(feature_importances, columns, number):\r\n",
        "    temp = []\r\n",
        "    for i in feature_importances:\r\n",
        "        temp.append(i)\r\n",
        "    temp.sort()                 # 큰 수부터 앞으로 정렬\r\n",
        "    temp = temp[:number]        # 내가 지정해준 개수만 반환\r\n",
        "    result = []\r\n",
        "    for j in temp:\r\n",
        "        index = feature_importances.tolist().index(j)\r\n",
        "        result.append(columns[index])       # columns는 feature_names를 지정할 예정\r\n",
        "    return result\r\n",
        "\r\n",
        "# x데이터를 솎은 모델을 만들자(모델2)\r\n",
        "x2 = pd.DataFrame(datasets.data, columns = dataset.feature_names)\r\n",
        "# 필요한 만큼만 위의 함수를 이용해 남기기\r\n",
        "x2.drop(cut_columns(model.feature_importances_, dataset.feature_names, 2), axis=1, inplace=True)\r\n",
        "# 내가 남긴 것들의 칼럼명 출력\r\n",
        "print('feature_names_2: \\n',cut_columns(model.feature_importances_, dataset.feature_names, 2))\r\n",
        "\r\n",
        "# 모델2를 위한 전처리(x가 x2로 변경, random_state 동일하게 유지)\r\n",
        "x2_train, x2_test, y_train, y_test = train_test_split(x2.values, y, test_size = 0.2, shuffle=True, random_state= 519)\r\n",
        "\r\n",
        "#2. 모델1과 동일\r\n",
        "model2 = DecisionTreeClassifier()\r\n",
        "\r\n",
        "#3. 컴파일ㄴ 훈련ㅇ\r\n",
        "model2.fit(x2_train, y_train)\r\n",
        "\r\n",
        "#4. 평가(스코어)\r\n",
        "score_2 = model2.score(x2_test, y_test)\r\n",
        "print('importances_2 : \\n', model2.feature_importances_)\r\n",
        "print('score_2: ', acc)\r\n",
        "\r\n",
        "# =========================================================\r\n",
        "# feature_names_1: \r\n",
        "#  ['sepal length (cm)', 'sepal width (cm)', 'petal length (cm)', 'petal width (cm)']\r\n",
        "# importances_1 : \r\n",
        "#  [0.11173685 0.0211079  0.41552211 0.45163314]\r\n",
        "# score_1:  0.9333333333333333\r\n",
        "\r\n",
        "# feature_names_2: \r\n",
        "#  ['sepal width (cm)', 'sepal length (cm)']\r\n",
        "# importances_2 : \r\n",
        "#  [0.58808145 0.41191855]\r\n",
        "# score_2:  0.9333333333333333\r\n",
        "# 큰 차이 없음!"
      ],
      "execution_count": 52,
      "outputs": [
        {
          "output_type": "stream",
          "text": [
            "feature_names_1: \n",
            " ['sepal length (cm)', 'sepal width (cm)', 'petal length (cm)', 'petal width (cm)']\n",
            "importances_1 : \n",
            " [0.11173685 0.0211079  0.41552211 0.45163314]\n",
            "score_1:  0.9333333333333333\n"
          ],
          "name": "stdout"
        },
        {
          "output_type": "display_data",
          "data": {
            "image/png": "[encoded data removed]",
            "text/plain": [
              "<Figure size 432x288 with 1 Axes>"
            ]
          },
          "metadata": {
            "tags": [],
            "needs_background": "light"
          }
        },
        {
          "output_type": "stream",
          "text": [
            "feature_names_2: \n",
            " ['sepal width (cm)', 'sepal length (cm)']\n",
            "importances_2 : \n",
            " [0.58808145 0.41191855]\n",
            "score_2:  0.9333333333333333\n"
          ],
          "name": "stdout"
        }
      ]
    }
  ]
}