{
  "nbformat": 4,
  "nbformat_minor": 0,
  "metadata": {
    "colab": {
      "name": "keras40_mnist4_lstm_re.py",
      "provenance": [],
      "collapsed_sections": [],
      "authorship_tag": "ABX9TyOckvyj8sGo0n8XtTVozIrZ",
      "include_colab_link": true
    },
    "kernelspec": {
      "name": "python3",
      "display_name": "Python 3"
    }
  },
  "cells": [
    {
      "cell_type": "markdown",
      "metadata": {
        "id": "view-in-github",
        "colab_type": "text"
      },
      "source": [
        "<a href=\"https://colab.research.google.com/github/YoungriKIM/Using_Colab/blob/main/keras40_mnist4_lstm_re_py.ipynb\" target=\"_parent\"><img src=\"https://colab.research.google.com/assets/colab-badge.svg\" alt=\"Open In Colab\"/></a>"
      ]
    },
    {
      "cell_type": "code",
      "metadata": {
        "id": "pFDbM1_CpQN8"
      },
      "source": [
        "# (N, 28, 28)     CNN\r\n",
        "# (N, 764)        Dense\r\n",
        "# (N, 764, 1)      LSTM     > input_shape = (28*28, 1) > (28*14, 2) > (28*7, 4) 등이 더 빠를 것이다.\r\n",
        "# lstm으로 구성\r\n",
        "\r\n",
        "import numpy as np\r\n",
        "\r\n",
        "#1. 데이터 불러오기\r\n",
        "from tensorflow.keras.datasets import mnist\r\n",
        "(x_train, y_train), (x_test, y_test) = mnist.load_data()\r\n",
        "\r\n",
        "x_train = x_train.reshape(x_train.shape[0], x_train.shape[1]*x_train.shape[2])\r\n",
        "x_test = x_test.reshape(x_test.shape[0], x_test.shape[1]*x_test.shape[2])\r\n",
        "\r\n",
        "from sklearn.preprocessing import MinMaxScaler\r\n",
        "scaler = MinMaxScaler()\r\n",
        "scaler.fit(x_train)\r\n",
        "x_train = scaler.transform(x_train)\r\n",
        "x_test = scaler.transform(x_test)\r\n",
        "\r\n",
        "x_train = x_train.reshape(x_train.shape[0], 49, 16)\r\n",
        "x_test = x_test.reshape(x_test.shape[0], 49, 16)\r\n",
        "\r\n",
        "\r\n",
        "from tensorflow.keras.utils import to_categorical\r\n",
        "y_train = to_categorical(y_train)\r\n",
        "y_test = to_categorical(y_test)\r\n",
        "\r\n",
        "# print(x_train.shape, x_test.shape)   #(60000, 49, 16) (10000, 49, 16)\r\n",
        "# print(y_train.shape, y_test.shape)   #(60000, 10) (10000, 10)\r\n",
        "\r\n",
        "\r\n",
        "#2. 모델 구성\r\n",
        "from tensorflow.keras.models import Sequential, Model\r\n",
        "from tensorflow.keras.layers import Dense, LSTM, Dropout, Input\r\n",
        "\r\n",
        "input1 = Input(shape=(49, 16))\r\n",
        "lstm1 = LSTM(16, activation='relu')(input1)\r\n",
        "dense1 = Dense(12)(lstm1)\r\n",
        "drop1 = Dropout(0.2)(dense1)\r\n",
        "dense1 = Dense(12)(drop1)\r\n",
        "dense1 = Dense(12)(dense1)\r\n",
        "output1 = Dense(10)(dense1)\r\n",
        "model = Model(inputs = input1, outputs = output1)\r\n",
        "\r\n",
        "# model.summary()\r\n",
        "\r\n",
        "#3. 컴파일, 훈련\r\n",
        "model.compile(loss='mse', optimizer='adam')\r\n",
        "\r\n",
        "from tensorflow.keras.callbacks import EarlyStopping\r\n",
        "stop = EarlyStopping(monitor='loss', patience=16, mode='min')\r\n",
        "\r\n",
        "model.fit(x_train, y_train, epochs=1000, batch_size=61, validation_split=0.2, verbose=1, callbacks=[stop])\r\n",
        "\r\n",
        "#4. 평가, 예측\r\n",
        "loss = model.evaluate(x_test, y_test, batch_size=61)\r\n",
        "print('loss: ', loss)\r\n",
        "\r\n",
        "y_pred = model.predict(x_test[:10])\r\n",
        "print('y_pred: ', y_pred.argmax(axis=1))\r\n",
        "print('y_test: ', y_test[:10].argmax(axis=1))\r\n",
        "\r\n",
        "# 40-4 mnist LSTM\r\n",
        "# 248\r\n",
        "# loss:  0.010707256384193897\r\n",
        "# y_pred:  [7 2 1 0 4 1 4 9 1 9]\r\n",
        "# y_test:  [7 2 1 0 4 1 4 9 5 9]"
      ],
      "execution_count": null,
      "outputs": []
    }
  ]
}