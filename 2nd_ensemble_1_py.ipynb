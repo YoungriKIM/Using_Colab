{
  "nbformat": 4,
  "nbformat_minor": 0,
  "metadata": {
    "colab": {
      "name": "2nd_ensemble_1.py",
      "provenance": [],
      "collapsed_sections": [],
      "machine_shape": "hm",
      "authorship_tag": "ABX9TyPMQprpV8wdoFpgpywfB3y/",
      "include_colab_link": true
    },
    "kernelspec": {
      "name": "python3",
      "display_name": "Python 3"
    },
    "accelerator": "GPU"
  },
  "cells": [
    {
      "cell_type": "markdown",
      "metadata": {
        "id": "view-in-github",
        "colab_type": "text"
      },
      "source": [
        "<a href=\"https://colab.research.google.com/github/YoungriKIM/Using_Colab/blob/main/2nd_ensemble_1_py.ipynb\" target=\"_parent\"><img src=\"https://colab.research.google.com/assets/colab-badge.svg\" alt=\"Open In Colab\"/></a>"
      ]
    },
    {
      "cell_type": "code",
      "metadata": {
        "colab": {
          "base_uri": "https://localhost:8080/"
        },
        "id": "fGECqUL9NlGZ",
        "outputId": "0860fea3-8bd2-4db3-c547-abdee96bc52d"
      },
      "source": [
        "import tensorflow as tf\r\n",
        "import numpy as np\r\n",
        "import pandas as pd\r\n",
        "import os\r\n",
        "from tensorflow.keras.optimizers import RMSprop\r\n",
        "# from tensorflow.keras.applications.efficientnet import EfficientNetB7\r\n",
        "from tensorflow.keras.models import Sequential\r\n",
        "from tensorflow.keras.layers import Dense, Dropout, Flatten \r\n",
        "from tensorflow.keras.models import Model\r\n",
        "from tensorflow.keras import optimizers\r\n",
        "import cv2\r\n",
        "\r\n",
        "import gc\r\n",
        "from keras import backend as bek\r\n",
        "\r\n",
        "test = pd.read_csv('/content/drive/MyDrive/colab_data/dacon3/test.csv')\r\n",
        "\r\n",
        "x_test = test.drop(['id', 'letter'], axis=1).values\r\n",
        "x_test = x_test.reshape(-1, 28, 28, 1)\r\n",
        "x_test = np.where((x_test<=20)&(x_test!=0) ,0.,x_test)\r\n",
        "# x_test = np.where(x_test>=145,255.,x_test)\r\n",
        "x_test = x_test/255\r\n",
        "x_test = x_test.astype('float32')\r\n",
        "\r\n",
        "test_224=np.zeros([20480,56,56,3],dtype=np.float32)\r\n",
        "\r\n",
        "\r\n",
        "for i, s in enumerate(x_test):\r\n",
        "    converted = cv2.cvtColor(s, cv2.COLOR_GRAY2RGB)\r\n",
        "    resized = cv2.resize(converted,(56,56),interpolation = cv2.INTER_CUBIC)\r\n",
        "    del converted\r\n",
        "    test_224[i] = resized\r\n",
        "    del resized\r\n",
        "\r\n",
        "bek.clear_session()\r\n",
        "gc.collect()\r\n",
        "\r\n",
        "\r\n",
        "\r\n",
        "\r\n",
        "#%%\r\n",
        "\r\n",
        "effnet = tf.keras.applications.EfficientNetB3(\r\n",
        "    include_top=True,\r\n",
        "    weights=None,\r\n",
        "    input_shape=(56,56,3),\r\n",
        "    classes=10,\r\n",
        "    classifier_activation=\"softmax\",\r\n",
        ")\r\n",
        "\r\n",
        "\r\n",
        "\r\n",
        "loaded_model = Sequential()\r\n",
        "loaded_model.add(effnet)\r\n",
        "\r\n",
        "\r\n",
        "loaded_model.compile(loss=\"categorical_crossentropy\",\r\n",
        "            optimizer=RMSprop(lr=2e-3),\r\n",
        "            metrics=['accuracy'])\r\n",
        "\r\n",
        "del x_test\r\n",
        "del test\r\n",
        "results = np.zeros( (20480,10),dtype=np.float16)\r\n",
        "\r\n",
        "\r\n",
        "for j in range(50):\r\n",
        "  filepath_val_acc=\"/content/drive/MyDrive/colab_data/modelcheckpoint/dacon3/effi_model_aug\"+str(j+1)+\".ckpt\"\r\n",
        "  loaded_model.load_weights(filepath_val_acc)\r\n",
        "  results = results + loaded_model.predict(test_224)\r\n",
        "  \r\n",
        "  del filepath_val_acc\r\n",
        "  bek.clear_session()\r\n",
        "  gc.collect()\r\n",
        "  \r\n",
        "np.savetxt('/content/drive/MyDrive/colab_data/dacon3/results.csv',results ,delimiter=',')  ## 유사도 판정표\r\n",
        "\r\n",
        "\r\n",
        "#%% md\r\n",
        "\r\n",
        "# Predict 결과를 앙상블하여 최종적인 예측값 결정\r\n",
        "\r\n",
        "#%%\r\n",
        "\r\n",
        "\r\n",
        "submission = pd.read_csv('/content/drive/MyDrive/colab_data/dacon3/submission.csv')\r\n",
        "submission['digit'] = np.argmax(results, axis=1)\r\n",
        "# model.predict(x_test)\r\n",
        "submission.head()\r\n",
        "submission.to_csv('/content/drive/MyDrive/colab_data/dacon3/last_last_2.csv', index=False)\r\n",
        "\r\n",
        "print('=====save complete===')"
      ],
      "execution_count": 4,
      "outputs": [
        {
          "output_type": "stream",
          "text": [
            "=====save complete===\n"
          ],
          "name": "stdout"
        }
      ]
    }
  ]
}