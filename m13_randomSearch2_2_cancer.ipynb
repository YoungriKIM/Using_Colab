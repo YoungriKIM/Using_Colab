{
  "nbformat": 4,
  "nbformat_minor": 0,
  "metadata": {
    "colab": {
      "name": "m13_randomSearch2_2_cancer",
      "provenance": [],
      "authorship_tag": "ABX9TyO/8g2L/quC4qPPd4PvtTo/",
      "include_colab_link": true
    },
    "kernelspec": {
      "name": "python3",
      "display_name": "Python 3"
    }
  },
  "cells": [
    {
      "cell_type": "markdown",
      "metadata": {
        "id": "view-in-github",
        "colab_type": "text"
      },
      "source": [
        "<a href=\"https://colab.research.google.com/github/YoungriKIM/Using_Colab/blob/main/m13_randomSearch2_2_cancer.ipynb\" target=\"_parent\"><img src=\"https://colab.research.google.com/assets/colab-badge.svg\" alt=\"Open In Colab\"/></a>"
      ]
    },
    {
      "cell_type": "code",
      "metadata": {
        "id": "zehfyJLWiZpX",
        "colab": {
          "base_uri": "https://localhost:8080/"
        },
        "outputId": "a8df28bc-8bda-4dee-98a1-caa8493007a8"
      },
      "source": [
        "# 제공하는 파라미터\r\n",
        "# parameters = [\r\n",
        "#     {'n_estimators' : [100,200]},\r\n",
        "#     {'max_depth' : [6,8,10,12]},\r\n",
        "#     {'min_samples_leaf' : [3,5,7,10]},\r\n",
        "#     {'min_samples_split' : [2,3,5,10]},\r\n",
        "#     {'n_jobs' : [-1,2,4]}\r\n",
        "# ]\r\n",
        "\r\n",
        "import numpy as np\r\n",
        "from sklearn.model_selection import train_test_split, KFold, cross_val_score, GridSearchCV, RandomizedSearchCV\r\n",
        "from sklearn.metrics import r2_score, accuracy_score\r\n",
        "from sklearn.datasets import load_breast_cancer\r\n",
        "import timeit\r\n",
        "from sklearn.ensemble import RandomForestClassifier\r\n",
        "\r\n",
        "dataset = load_wine()\r\n",
        "x = dataset.data\r\n",
        "y = dataset.target\r\n",
        "\r\n",
        "x_train, x_test, y_train, y_test = train_test_split(x, y, train_size=0.8, random_state=311)\r\n",
        "\r\n",
        "kfold = KFold(n_splits=5, shuffle=True)\r\n",
        "\r\n",
        "parameters = [\r\n",
        "    {'n_estimators' : [100,200]},\r\n",
        "    {'max_depth' : [6,8,10,12]},\r\n",
        "    {'min_samples_leaf' : [3,5,7,10]},\r\n",
        "    {'min_samples_split' : [2,3,5,10]},\r\n",
        "    {'n_jobs' : [-1,2,4]}]\r\n",
        "\r\n",
        "start_t = timeit.default_timer()\r\n",
        "\r\n",
        "model = RandomizedSearchCV(RandomForestClassifier(), parameters, cv = kfold)\r\n",
        "\r\n",
        "model.fit(x_train, y_train)\r\n",
        "print('best_parameters: ', model.best_estimator_)\r\n",
        "\r\n",
        "y_pred = model.predict(x_test)\r\n",
        "print('score: ', accuracy_score(y_pred, y_test))"
      ],
      "execution_count": 26,
      "outputs": [
        {
          "output_type": "stream",
          "text": [
            "best_parameters:  RandomForestClassifier(bootstrap=True, ccp_alpha=0.0, class_weight=None,\n",
            "                       criterion='gini', max_depth=None, max_features='auto',\n",
            "                       max_leaf_nodes=None, max_samples=None,\n",
            "                       min_impurity_decrease=0.0, min_impurity_split=None,\n",
            "                       min_samples_leaf=3, min_samples_split=2,\n",
            "                       min_weight_fraction_leaf=0.0, n_estimators=100,\n",
            "                       n_jobs=None, oob_score=False, random_state=None,\n",
            "                       verbose=0, warm_start=False)\n",
            "score:  0.9444444444444444\n"
          ],
          "name": "stdout"
        }
      ]
    }
  ]
}