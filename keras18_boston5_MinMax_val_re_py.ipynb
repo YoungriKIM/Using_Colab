{
  "nbformat": 4,
  "nbformat_minor": 0,
  "metadata": {
    "colab": {
      "name": "keras18_boston5_MinMax_val_re.py",
      "provenance": [],
      "collapsed_sections": [],
      "authorship_tag": "ABX9TyOOH/DHeA6svJR9uHsv1zD3",
      "include_colab_link": true
    },
    "kernelspec": {
      "display_name": "Python 3",
      "name": "python3"
    }
  },
  "cells": [
    {
      "cell_type": "markdown",
      "metadata": {
        "id": "view-in-github",
        "colab_type": "text"
      },
      "source": [
        "<a href=\"https://colab.research.google.com/github/YoungriKIM/Using_Colab/blob/main/keras18_boston5_MinMax_val_re_py.ipynb\" target=\"_parent\"><img src=\"https://colab.research.google.com/assets/colab-badge.svg\" alt=\"Open In Colab\"/></a>"
      ]
    },
    {
      "cell_type": "code",
      "metadata": {
        "id": "b_vXNrJR-R72"
      },
      "source": [
        "#데이터 불러오기\r\n",
        "import numpy as np\r\n",
        "from sklearn.datasets import load_boston\r\n",
        "dataset = load_boston()\r\n",
        "x = dataset.data\r\n",
        "y = dataset.target\r\n",
        "\r\n",
        "from sklearn.model_selection import train_test_split\r\n",
        "x_train, x_test, y_train, y_test = train_test_split (x, y, train_size=0.8, shuffle=True, random_state=311)\r\n",
        "\r\n",
        "from sklearn.model_selection import train_test_split\r\n",
        "x_train, x_val, y_train, y_val = train_test_split(x_train, y_train, test_size=0.2, shuffle=True, random_state=311)\r\n",
        "\r\n",
        "from sklearn.preprocessing import MinMaxScaler\r\n",
        "scaler = MinMaxScaler()\r\n",
        "scaler.fit(x_train)\r\n",
        "x_train = scaler.transform(x_train)\r\n",
        "x_test = scaler.transform(x_test)\r\n",
        "x_val = scaler.transform(x_val)\r\n",
        "\r\n",
        "print(x.shape) #(506,13)\r\n",
        "\r\n",
        "#모델 구성\r\n",
        "from tensorflow.keras.models import Model, Sequential\r\n",
        "from tensorflow.keras.layers import Dense, Input\r\n",
        "\r\n",
        "model = Sequential()\r\n",
        "model.add(Dense(40, input_dim=13, activation='relu'))\r\n",
        "model.add(Dense(30))\r\n",
        "model.add(Dense(30))\r\n",
        "model.add(Dense(20))\r\n",
        "model.add(Dense(20))\r\n",
        "model.add(Dense(1))\r\n",
        "\r\n",
        "#컴파일, 훈련\r\n",
        "model.compile(loss='mse', optimizer='adam', metrics=['mae'])\r\n",
        "model.fit(x_train, y_train, epochs=100, batch_size=2, validation_data=(x_val, y_val), verbose=2)\r\n",
        "\r\n",
        "#평가, 예측\r\n",
        "loss,mae = model.evaluate(x_test, y_test, batch_size=1)\r\n",
        "print('loss, mae: ', loss, mae)\r\n",
        "\r\n",
        "y_predict = model.predict(x_test)\r\n",
        "\r\n",
        "from sklearn.metrics import mean_squared_error\r\n",
        "def RMSE(y_test, y_predict):\r\n",
        "    return np.sqrt(mean_squared_error(y_test, y_predict))\r\n",
        "print('RMSE: ', RMSE(y_test, y_predict))\r\n",
        "\r\n",
        "from sklearn.metrics import r2_score\r\n",
        "R2 = r2_score(y_test, y_predict)\r\n",
        "print('R2: ', R2)\r\n",
        "\r\n",
        "# 18-3 기준: 전체x\r\n",
        "# loss, mae:  14.40992259979248 2.5567142963409424\r\n",
        "# RMSE:  3.79604081933286\r\n",
        "# R2:  0.8004349233068114\r\n",
        "\r\n",
        "# 18-3 기준: x_train(x_val이 x_train에 포함)\r\n",
        "# loss, mae:  12.714116096496582 2.6404244899749756\r\n",
        "# RMSE:  3.565685266919764\r\n",
        "# R2:  0.8239204949136372\r\n",
        "\r\n",
        "# 18-5 기준: x_train(x_test와 x_val 분리 후 x_train에 transform)\r\n",
        "# loss, mae:  13.290498733520508 2.350795030593872\r\n",
        "# RMSE:  3.645613916334949\r\n",
        "# R2:  0.8159379975402624"
      ],
      "execution_count": null,
      "outputs": []
    }
  ]
}