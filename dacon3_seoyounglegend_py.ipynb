{
  "nbformat": 4,
  "nbformat_minor": 0,
  "metadata": {
    "colab": {
      "name": "dacon3_seoyounglegend.py",
      "provenance": [],
      "collapsed_sections": [],
      "authorship_tag": "ABX9TyPGONPzfyhlzNElXQmZOG64",
      "include_colab_link": true
    },
    "kernelspec": {
      "name": "python3",
      "display_name": "Python 3"
    }
  },
  "cells": [
    {
      "cell_type": "markdown",
      "metadata": {
        "id": "view-in-github",
        "colab_type": "text"
      },
      "source": [
        "<a href=\"https://colab.research.google.com/github/YoungriKIM/Using_Colab/blob/main/dacon3_seoyounglegend_py.ipynb\" target=\"_parent\"><img src=\"https://colab.research.google.com/assets/colab-badge.svg\" alt=\"Open In Colab\"/></a>"
      ]
    },
    {
      "cell_type": "code",
      "metadata": {
        "colab": {
          "base_uri": "https://localhost:8080/",
          "height": 341
        },
        "id": "IO-w0cMEqvCM",
        "outputId": "660a38b7-b65a-479b-affc-69322026e661"
      },
      "source": [
        "import numpy as np\r\n",
        "import pandas as pd\r\n",
        "from collections import Counter\r\n",
        "\r\n",
        "# 코랩에서 쓴거 붙여넣음\r\n",
        "\r\n",
        "# from google.colab import drive\r\n",
        "# drive.mount('/content/drive')\r\n",
        "\r\n",
        "# 파일 고르는 중\r\n",
        "\r\n",
        "sum1 = pd.read_csv('/content/drive/MyDrive/colab_data/dacon3/self_0204_3-2.csv')\r\n",
        "sum2 = pd.read_csv('/content/drive/MyDrive/colab_data/dacon3/1st_01.csv')\r\n",
        "sum3 = pd.read_csv('/content/drive/MyDrive/colab_data/dacon3/3th_0202_3.csv')\r\n",
        "\r\n",
        "sum1 = sum1.iloc[:,1]\r\n",
        "sum2 = sum2.iloc[:,1]\r\n",
        "sum3 = sum3.iloc[:,1]\r\n",
        "\r\n",
        "sumsum = pd.concat([sum1, sum2, sum3], axis=1)\r\n",
        "\r\n",
        "print(sumsum.shape[0])\r\n",
        "\r\n",
        "sub = pd.read_csv('/content/drive/MyDrive/colab_data/dacon3/submission.csv')\r\n",
        "\r\n",
        "for i in range(sumsum.shape[0]) :\r\n",
        "    predicts = sumsum.loc[i, : ]\r\n",
        "    sub.at[i, \"digit\"] = Counter(predicts).most_common(n=1)[0][0]\r\n",
        "print(sub.head())\r\n",
        "sub = sub[['id', 'digit']]\r\n",
        "print(sub.head())\r\n",
        "print(sub.shape)\r\n",
        "sub.to_csv('/content/drive/MyDrive/colab_data/dacon3/seoyounglegend.csv', index = False)\r\n",
        "\r\n",
        "print('===save complete===')\r\n",
        "\r\n",
        "# =================================================\r\n",
        "# 결과 좋은 파일 합 > seoyounglegend.csv > dacon score : 0.9509803922\t\r\n"
      ],
      "execution_count": 19,
      "outputs": [
        {
          "output_type": "stream",
          "text": [
            "20480\n",
            "     id  digit\n",
            "0  2049      6\n",
            "1  2050      9\n",
            "2  2051      8\n",
            "3  2052      0\n",
            "4  2053      3\n",
            "     id  digit\n",
            "0  2049      6\n",
            "1  2050      9\n",
            "2  2051      8\n",
            "3  2052      0\n",
            "4  2053      3\n",
            "(20480, 2)\n",
            "===save complete===\n"
          ],
          "name": "stdout"
        },
        {
          "output_type": "execute_result",
          "data": {
            "application/vnd.google.colaboratory.intrinsic+json": {
              "type": "string"
            },
            "text/plain": [
              "\"\\nx = []\\nfor i in range(1,9):\\n    df = pd.read_csv(f'/content/drive/MyDrive/colab_data/dacon1/dongdong/dong_{i}.csv', index_col=0, header=0)\\n    data = df.to_numpy()\\n    x.append(data)\\n\\nx = np.array(x)\\n\\ndf = pd.read_csv(f'/content/drive/MyDrive/colab_data/dacon1/dongdong/dong_{i}.csv', index_col=0, header=0)\\nfor i in range(7776):\\n    for j in range(9):\\n        a = []\\n        for k in range(5):\\n            a.append(x[k,i,j].astype('float32'))\\n        a = np.array(a)\\n        df.iloc[[i],[j]] = (pd.DataFrame(a).astype('float32').quantile(0.5,axis = 0)[0]).astype('float32')\\n        \\ny = pd.DataFrame(df, index = None, columns = None)\\ny.to_csv('/content/drive/MyDrive/colab_data/dacon1/dongdong/result_3.csv') \\n\""
            ]
          },
          "metadata": {
            "tags": []
          },
          "execution_count": 19
        }
      ]
    }
  ]
}