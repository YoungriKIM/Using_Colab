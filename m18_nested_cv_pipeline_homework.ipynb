{
  "nbformat": 4,
  "nbformat_minor": 0,
  "metadata": {
    "accelerator": "GPU",
    "colab": {
      "name": "m18_nested_cv_pipeline_homework",
      "provenance": [],
      "collapsed_sections": [],
      "authorship_tag": "ABX9TyPbzlaBiEo2sEzzr2rApfCg",
      "include_colab_link": true
    },
    "kernelspec": {
      "display_name": "Python 3",
      "name": "python3"
    }
  },
  "cells": [
    {
      "cell_type": "markdown",
      "metadata": {
        "id": "view-in-github",
        "colab_type": "text"
      },
      "source": [
        "<a href=\"https://colab.research.google.com/github/YoungriKIM/Using_Colab/blob/main/m18_nested_cv_pipeline_homework.ipynb\" target=\"_parent\"><img src=\"https://colab.research.google.com/assets/colab-badge.svg\" alt=\"Open In Colab\"/></a>"
      ]
    },
    {
      "cell_type": "code",
      "metadata": {
        "colab": {
          "background_save": true
        },
        "id": "OH16U-Rt6OAI"
      },
      "source": [
        "import numpy as np\r\n",
        "from sklearn.datasets import load_diabetes\r\n",
        "from sklearn.preprocessing import MinMaxScaler, StandardScaler\r\n",
        "from sklearn.model_selection import train_test_split, KFold, cross_val_score\r\n",
        "from sklearn.model_selection import GridSearchCV ,RandomizedSearchCV\r\n",
        "from sklearn.metrics import accuracy_score, r2_score\r\n",
        "from sklearn.pipeline import Pipeline, make_pipeline\r\n",
        "\r\n",
        "#classfier = 분류모델\r\n",
        "from sklearn.svm import LinearSVC, SVC\r\n",
        "from sklearn.neighbors import KNeighborsClassifier\r\n",
        "from sklearn.linear_model import LogisticRegression \r\n",
        "from sklearn.tree import DecisionTreeClassifier\r\n",
        "from sklearn.ensemble import RandomForestClassifier,RandomForestRegressor\r\n",
        "import pandas as pd\r\n",
        "import warnings\r\n",
        "warnings.filterwarnings('ignore')\r\n",
        "\r\n",
        "dataset = load_diabetes()\r\n",
        "x = dataset.data\r\n",
        "y = dataset.target\r\n",
        "\r\n",
        "kfold = KFold(n_splits = 5, shuffle=True)\r\n",
        "\r\n",
        "parameters = [\r\n",
        "    {'randomforestregressor__n_estimators' : [100,200],\r\n",
        "    'randomforestregressor__max_depth' : [6,8,10,12],\r\n",
        "    'randomforestregressor__min_samples_leaf' : [3,5,7,10],\r\n",
        "    'randomforestregressor__min_samples_split' : [2,3,5,10],\r\n",
        "    'randomforestregressor__n_jobs' : [-1]} \r\n",
        "]\r\n",
        "\r\n",
        "# 5*5=25 되도록 모델 구성 kfold 먼저 하고 거기서 또 split 되도록\r\n",
        "pipemodel = make_pipeline(MinMaxScaler(), RandomForestRegressor())\r\n",
        "model = RandomizedSearchCV(pipemodel, parameters, cv = kfold)\r\n",
        "score = cross_val_score(model, x, y, cv = kfold)\r\n",
        "\r\n",
        "print('nested score: ', score)\r\n",
        "\r\n",
        "#==============================\r\n",
        "# nested score:  [0.41288673 0.41056633 0.57151867 0.4119841  0.2535303 ]\r\n"
      ],
      "execution_count": null,
      "outputs": []
    }
  ]
}