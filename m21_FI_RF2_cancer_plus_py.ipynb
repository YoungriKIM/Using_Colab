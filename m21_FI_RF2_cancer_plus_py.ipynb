{
  "nbformat": 4,
  "nbformat_minor": 0,
  "metadata": {
    "colab": {
      "name": "m21_FI_RF2_cancer_plus.py",
      "provenance": [],
      "authorship_tag": "ABX9TyM8ZGTn47KF6NC6CK1tMLeb",
      "include_colab_link": true
    },
    "kernelspec": {
      "name": "python3",
      "display_name": "Python 3"
    },
    "accelerator": "GPU"
  },
  "cells": [
    {
      "cell_type": "markdown",
      "metadata": {
        "id": "view-in-github",
        "colab_type": "text"
      },
      "source": [
        "<a href=\"https://colab.research.google.com/github/YoungriKIM/Using_Colab/blob/main/m21_FI_RF2_cancer_plus_py.ipynb\" target=\"_parent\"><img src=\"https://colab.research.google.com/assets/colab-badge.svg\" alt=\"Open In Colab\"/></a>"
      ]
    },
    {
      "cell_type": "code",
      "metadata": {
        "colab": {
          "base_uri": "https://localhost:8080/",
          "height": 719
        },
        "id": "UtUWFy7-R4AQ",
        "outputId": "42013377-b9da-4de5-f025-14dc51e92c81"
      },
      "source": [
        "# feature_importances_를 이용해 칼럼별 중요도를 그래프로 출력해보고\r\n",
        "# 중요도가 적은 칼럼을 삭제하여 기존과 비교해보자\r\n",
        "\r\n",
        "import numpy as np\r\n",
        "import pandas as pd\r\n",
        "from sklearn.datasets import load_breast_cancer\r\n",
        "from sklearn.model_selection import train_test_split\r\n",
        "from sklearn.ensemble import RandomForestClassifier\r\n",
        "import matplotlib.pyplot as plt\r\n",
        "import warnings\r\n",
        "warnings.filterwarnings('ignore')\r\n",
        "\r\n",
        "#1. 데이터 지정, 전처리\r\n",
        "dataset = load_breast_cancer()\r\n",
        "x = dataset.data\r\n",
        "y = dataset.target\r\n",
        "x_train,x_test,y_train,y_test = train_test_split(x, y, test_size=0.2, random_state=519)\r\n",
        "\r\n",
        "#2. 모델(모델1)\r\n",
        "model = RandomForestClassifier()\r\n",
        "\r\n",
        "#3. 컴파일ㄴ 훈련ㅇ\r\n",
        "model.fit(x_train, y_train)\r\n",
        "\r\n",
        "#4. 평가(스코어)\r\n",
        "score_1 = model.score(x_test, y_test)\r\n",
        "print('feature_names_1: \\n', dataset.feature_names)\r\n",
        "print('importances_1 : \\n', model.feature_importances_)\r\n",
        "print('score_1: ', score_1)\r\n",
        "\r\n",
        "\r\n",
        "# 중요도 그래프 그리기(솎기 전)\r\n",
        "def plot_feature_importances_datasets(model):\r\n",
        "    n_features = x.shape[1]\r\n",
        "    plt.barh(np.arange(n_features), model.feature_importances_, align = 'center')\r\n",
        "    plt.yticks(np.arange(n_features), dataset.feature_names)\r\n",
        "    plt.xlabel('Feature Importances')\r\n",
        "    plt.ylabel('Features')\r\n",
        "    plt.ylim(-1, n_features)\r\n",
        "\r\n",
        "plot_feature_importances_datasets(model)\r\n",
        "plt.show()\r\n",
        "\r\n",
        "\r\n",
        "# 남길 개수 정하고 솎는 함수(수현)\r\n",
        "def cut_columns(feature_importances, columns, number):\r\n",
        "    temp = []\r\n",
        "    for i in feature_importances:\r\n",
        "        temp.append(i)\r\n",
        "    temp.sort()                 # 큰 수부터 앞으로 정렬\r\n",
        "    temp = temp[:number]        # 내가 지정해준 개수만 반환\r\n",
        "    result = []\r\n",
        "    for j in temp:\r\n",
        "        index = feature_importances.tolist().index(j)\r\n",
        "        result.append(columns[index])       # columns는 feature_names를 지정할 예정\r\n",
        "    return result\r\n",
        "\r\n",
        "# x데이터를 솎은 모델을 만들자(모델2)\r\n",
        "x2 = pd.DataFrame(dataset.data, columns = dataset.feature_names)\r\n",
        "# 필요한 만큼만 위의 함수를 이용해 남기기\r\n",
        "x2.drop(cut_columns(model.feature_importances_, dataset.feature_names, 8), axis=1, inplace=True)\r\n",
        "# 내가 남긴 것들의 칼럼명 출력\r\n",
        "print('feature_names_2: \\n',cut_columns(model.feature_importances_, dataset.feature_names, 8))\r\n",
        "\r\n",
        "# 모델2를 위한 전처리(x가 x2로 변경, random_state 동일하게 유지)\r\n",
        "x2_train, x2_test, y_train, y_test = train_test_split(x2.values, y, test_size = 0.2, shuffle=True, random_state= 519)\r\n",
        "\r\n",
        "#2. 모델1과 동일\r\n",
        "model2 = RandomForestClassifier()\r\n",
        "\r\n",
        "#3. 컴파일ㄴ 훈련ㅇ\r\n",
        "model2.fit(x2_train, y_train)\r\n",
        "\r\n",
        "#4. 평가(스코어)\r\n",
        "score_2 = model2.score(x2_test, y_test)\r\n",
        "print('importances_2 : \\n', model2.feature_importances_)\r\n",
        "print('score_2: ', score_2)\r\n",
        "\r\n",
        "# =========================================================\r\n",
        "# score_1:  0.9473684210526315\r\n",
        "\r\n",
        "# score_2:  0.956140350877193"
      ],
      "execution_count": 7,
      "outputs": [
        {
          "output_type": "stream",
          "text": [
            "feature_names_1: \n",
            " ['mean radius' 'mean texture' 'mean perimeter' 'mean area'\n",
            " 'mean smoothness' 'mean compactness' 'mean concavity'\n",
            " 'mean concave points' 'mean symmetry' 'mean fractal dimension'\n",
            " 'radius error' 'texture error' 'perimeter error' 'area error'\n",
            " 'smoothness error' 'compactness error' 'concavity error'\n",
            " 'concave points error' 'symmetry error' 'fractal dimension error'\n",
            " 'worst radius' 'worst texture' 'worst perimeter' 'worst area'\n",
            " 'worst smoothness' 'worst compactness' 'worst concavity'\n",
            " 'worst concave points' 'worst symmetry' 'worst fractal dimension']\n",
            "importances_1 : \n",
            " [0.05656288 0.00901022 0.05404391 0.07773468 0.0051656  0.00894898\n",
            " 0.0399244  0.10729468 0.00362866 0.00443952 0.01643869 0.0043426\n",
            " 0.00906065 0.05721284 0.0046295  0.00426383 0.01120009 0.00660397\n",
            " 0.00440251 0.00459444 0.1152244  0.01468824 0.10871056 0.1077996\n",
            " 0.00904522 0.01323764 0.01715493 0.10173694 0.01382852 0.00907131]\n",
            "score_1:  0.9473684210526315\n"
          ],
          "name": "stdout"
        },
        {
          "output_type": "display_data",
          "data": {
            "image/png": "[encoded data removed]",
            "text/plain": [
              "<Figure size 432x288 with 1 Axes>"
            ]
          },
          "metadata": {
            "tags": [],
            "needs_background": "light"
          }
        },
        {
          "output_type": "stream",
          "text": [
            "feature_names_2: \n",
            " ['mean symmetry', 'compactness error', 'texture error', 'symmetry error', 'mean fractal dimension', 'fractal dimension error', 'smoothness error', 'mean smoothness']\n",
            "importances_2 : \n",
            " [0.0403553  0.01207709 0.04268638 0.07863633 0.00598884 0.06044641\n",
            " 0.12991632 0.01416089 0.00601697 0.02567547 0.00578189 0.00429269\n",
            " 0.13049383 0.01693662 0.09901857 0.11757743 0.01076318 0.01528967\n",
            " 0.0218976  0.14491161 0.00882677 0.00825013]\n",
            "score_2:  0.956140350877193\n"
          ],
          "name": "stdout"
        }
      ]
    }
  ]
}