{
  "nbformat": 4,
  "nbformat_minor": 0,
  "metadata": {
    "colab": {
      "name": "keras19_diabetes6_re.py",
      "provenance": [],
      "collapsed_sections": [],
      "authorship_tag": "ABX9TyOVpSE5ggYw3C88E6rKjrcL",
      "include_colab_link": true
    },
    "kernelspec": {
      "name": "python3",
      "display_name": "Python 3"
    }
  },
  "cells": [
    {
      "cell_type": "markdown",
      "metadata": {
        "id": "view-in-github",
        "colab_type": "text"
      },
      "source": [
        "<a href=\"https://colab.research.google.com/github/YoungriKIM/Using_Colab/blob/main/keras19_diabetes6_re_py.ipynb\" target=\"_parent\"><img src=\"https://colab.research.google.com/assets/colab-badge.svg\" alt=\"Open In Colab\"/></a>"
      ]
    },
    {
      "cell_type": "code",
      "metadata": {
        "id": "pDjlqH3mJpGw"
      },
      "source": [
        "import numpy as np\n",
        "#data\n",
        "\n",
        "from sklearn.datasets import load_diabetes\n",
        "dataset = load_diabetes()\n",
        "x = dataset.data\n",
        "y = dataset.target\n",
        "\n",
        "from sklearn.model_selection import train_test_split\n",
        "x_train, x_test, y_train, y_test = train_test_split(x, y, train_size=0.8, shuffle=True, random_state=311)\n",
        "\n",
        "from sklearn.model_selection import train_test_split\n",
        "x_train, x_val, y_train, y_val = train_test_split(x_train, y_train, test_size=0.2, shuffle=True, random_state=311)\n",
        "\n",
        "from sklearn.preprocessing import MinMaxScaler\n",
        "scaler = MinMaxScaler()\n",
        "scaler.fit(x_train)\n",
        "x_train = scaler.transform(x_train)\n",
        "x_val = scaler.transform(x_val)\n",
        "x_test = scaler.transform(x_test)\n",
        "\n",
        "print(x.shape) #(442, 10)\n",
        "\n",
        "#model\n",
        "from tensorflow.keras.models import Model, Sequential\n",
        "from tensorflow.keras.layers import Dense, Input\n",
        "\n",
        "model = Sequential()\n",
        "model.add(Dense(42,input_shape=(10,), activation='relu'))\n",
        "model.add(Dense(84))\n",
        "model.add(Dense(84))\n",
        "model.add(Dense(42))\n",
        "model.add(Dense(1))\n",
        "\n",
        "#compile, fit\n",
        "model.compile(loss='mse', optimizer='adam', metrics=['mae'])\n",
        "\n",
        "from tensorflow.keras.callbacks import EarlyStopping\n",
        "early_stopping = EarlyStopping(monitor='loss', patience=30, mode=min)\n",
        "model.fit(x_train, y_train, epochs=100, batch_size=2, validation_data=(x_val, y_val), verbose=2, callbacks=[early_stopping])\n",
        "\n",
        "#evaluate, predict\n",
        "loss, mae = model.evaluate(x_test, y_test, batch_size=1)\n",
        "print('loss, mae: ', loss, mae)\n",
        "\n",
        "y_predict = model.predict(x_test)\n",
        "\n",
        "from sklearn.metrics import mean_squared_error\n",
        "def RMSE(y_test, y_predict):\n",
        "    return np.sqrt(mean_squared_error(y_test, y_predict))\n",
        "print('RMSE: ', RMSE(y_test, y_predict))\n",
        "\n",
        "from sklearn.metrics import r2_score\n",
        "R2 = r2_score(y_test, y_predict)\n",
        "print('R2: ', R2)\n",
        "\n",
        "# loss, mae:  4152.64306640625 50.069847106933594\n",
        "# RMSE:  64.44100390985021\n",
        "# R2:  0.3309902136146442"
      ],
      "execution_count": null,
      "outputs": []
    }
  ]
}