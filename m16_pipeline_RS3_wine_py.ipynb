{
  "nbformat": 4,
  "nbformat_minor": 0,
  "metadata": {
    "colab": {
      "name": "m16_pipeline_RS3_wine.py",
      "provenance": [],
      "authorship_tag": "ABX9TyOOsijONXBRGGW2Ej/LgUfy",
      "include_colab_link": true
    },
    "kernelspec": {
      "name": "python3",
      "display_name": "Python 3"
    }
  },
  "cells": [
    {
      "cell_type": "markdown",
      "metadata": {
        "id": "view-in-github",
        "colab_type": "text"
      },
      "source": [
        "<a href=\"https://colab.research.google.com/github/YoungriKIM/Using_Colab/blob/main/m16_pipeline_RS3_wine_py.ipynb\" target=\"_parent\"><img src=\"https://colab.research.google.com/assets/colab-badge.svg\" alt=\"Open In Colab\"/></a>"
      ]
    },
    {
      "cell_type": "code",
      "metadata": {
        "id": "zehfyJLWiZpX",
        "colab": {
          "base_uri": "https://localhost:8080/"
        },
        "outputId": "127cd385-0564-4175-d47d-479dce67b149"
      },
      "source": [
        "# pipeline, RandomizedSearchCV 연결\r\n",
        "\r\n",
        "import pandas as pd\r\n",
        "import numpy as np\r\n",
        "from sklearn.datasets import load_iris, load_wine\r\n",
        "from sklearn.preprocessing import MinMaxScaler, StandardScaler\r\n",
        "from sklearn.model_selection import train_test_split, KFold, cross_val_score, GridSearchCV, RandomizedSearchCV\r\n",
        "from sklearn.pipeline import Pipeline, make_pipeline\r\n",
        "from sklearn.metrics import r2_score, accuracy_score\r\n",
        "from sklearn.ensemble import RandomForestClassifier\r\n",
        "import warnings\r\n",
        "warnings.filterwarnings('ignore')\r\n",
        "\r\n",
        "dataset = load_wine()\r\n",
        "x = dataset.data\r\n",
        "y = dataset.target\r\n",
        "\r\n",
        "x_train,x_test, y_train,y_test = train_test_split(x,y,train_size = 0.8,random_state=311)\r\n",
        "\r\n",
        "kfold = KFold(n_splits = 5, shuffle=True)\r\n",
        "\r\n",
        "parameters = [\r\n",
        "    {'a__n_estimators' : [100,200],\r\n",
        "    'a__max_depth' : [6,8,10,12],\r\n",
        "    'a__min_samples_leaf' : [3,5,7,10],\r\n",
        "    'a__min_samples_split' : [2,3,5,10],\r\n",
        "    'a__n_jobs' : [-1]}]\r\n",
        "\r\n",
        "# 모델 구성\r\n",
        "\r\n",
        "pipe = Pipeline([('scaler',MinMaxScaler()),('a', RandomForestClassifier())])\r\n",
        "# pipe = make_pipeline(MinMaxScaler(), RandomForestClassifier())\r\n",
        "\r\n",
        "model = GridSearchCV(pipe, parameters, cv = kfold)\r\n",
        "# model = RandomizedSearchCV(pipe, parameters, cv = kfold)\r\n",
        "\r\n",
        "model.fit(x_train, y_train)\r\n",
        "\r\n",
        "score = model.score(x_test, y_test)\r\n",
        "print(score)"
      ],
      "execution_count": 33,
      "outputs": [
        {
          "output_type": "stream",
          "text": [
            "0.9444444444444444\n"
          ],
          "name": "stdout"
        }
      ]
    }
  ]
}