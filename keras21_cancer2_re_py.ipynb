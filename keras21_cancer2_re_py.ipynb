{
  "nbformat": 4,
  "nbformat_minor": 0,
  "metadata": {
    "colab": {
      "name": "keras21_cancer2_re.py",
      "provenance": [],
      "collapsed_sections": [],
      "authorship_tag": "ABX9TyMJ75QnIrrbpHvfZighrvDr",
      "include_colab_link": true
    },
    "kernelspec": {
      "name": "python3",
      "display_name": "Python 3"
    }
  },
  "cells": [
    {
      "cell_type": "markdown",
      "metadata": {
        "id": "view-in-github",
        "colab_type": "text"
      },
      "source": [
        "<a href=\"https://colab.research.google.com/github/YoungriKIM/Using_Colab/blob/main/keras21_cancer2_re_py.ipynb\" target=\"_parent\"><img src=\"https://colab.research.google.com/assets/colab-badge.svg\" alt=\"Open In Colab\"/></a>"
      ]
    },
    {
      "cell_type": "code",
      "metadata": {
        "colab": {
          "base_uri": "https://localhost:8080/"
        },
        "id": "6_pPZhkioq7n",
        "outputId": "94b5cded-f9d9-4998-aadc-0c7cde4d34f0"
      },
      "source": [
        "import numpy as np\r\n",
        "from tensorflow.keras.models import Sequential, Model\r\n",
        "from tensorflow.keras.layers import Dense, Input\r\n",
        "\r\n",
        "#1. 데이터 주고\r\n",
        "from sklearn.datasets import load_breast_cancer\r\n",
        "dataset = load_breast_cancer()\r\n",
        "x = dataset.data\r\n",
        "y = dataset.target\r\n",
        "\r\n",
        "# print(x.shape, y.shape) #(569, 30) (569,)\r\n",
        "# print('x[:5]: ',x[:5]) #전처리가 안 되어있음\r\n",
        "# print('y: ',y) #값이 0과 1로 이진분류임\r\n",
        "\r\n",
        "#전처리(y벡터화, 트레인테스트나누기, 민맥스스케일러)\r\n",
        "from tensorflow.keras.utils import to_categorical\r\n",
        "y = to_categorical(y)\r\n",
        "\r\n",
        "from sklearn.model_selection import train_test_split\r\n",
        "x_train, x_test, y_train, y_test = train_test_split(x, y, train_size=0.8, shuffle=True, random_state=33)\r\n",
        "\r\n",
        "from sklearn.model_selection import train_test_split\r\n",
        "x_train, x_val, y_train, y_val = train_test_split(x_train, y_train, test_size=0.2, shuffle=True, random_state=33)\r\n",
        "\r\n",
        "from sklearn.preprocessing import MinMaxScaler\r\n",
        "scaler = MinMaxScaler()\r\n",
        "scaler.fit(x_train)\r\n",
        "x_train = scaler.transform(x_train)\r\n",
        "x_val = scaler.transform(x_val)\r\n",
        "x_test = scaler.transform(x_test)\r\n",
        "\r\n",
        "#모델 구성\r\n",
        "input1 = Input(shape=(30,))\r\n",
        "dense1 = Dense(120, activation='relu')(input1)\r\n",
        "dense1 = Dense(120)(dense1)\r\n",
        "dense1 = Dense(60)(dense1)\r\n",
        "dense1 = Dense(60)(dense1)\r\n",
        "dense1 = Dense(60)(dense1)\r\n",
        "output1 = Dense(2, activation='sigmoid')(dense1)\r\n",
        "model = Model(inputs = input1, outputs = output1)\r\n",
        "\r\n",
        "#컴파일, 훈련\r\n",
        "model.compile(loss='binary_crossentropy', optimizer='adam', metrics=['acc'])\r\n",
        "\r\n",
        "from tensorflow.keras.callbacks import EarlyStopping\r\n",
        "stop = EarlyStopping(monitor='loss', patience=20, mode='min')\r\n",
        "model.fit(x_train, y_train, epochs=10, batch_size=30, validation_data=(x_val, y_val), verbose=2, callbacks=[stop])\r\n",
        "\r\n",
        "#검증, 예측\r\n",
        "loss = model.evaluate(x_test, y_test, batch_size=10)\r\n",
        "print('loss: ', loss)\r\n",
        "\r\n",
        "y_predict = np.array(model.predict(x_train[:5]))\r\n",
        "print('y_predict: ', y_predict.argmax(axis=-1))\r\n",
        "\r\n",
        "# print(y_predict.shape) #(5,2)\r\n",
        "# print(y_test[:5].shape) #(5,2)\r\n",
        "\r\n",
        "print('y_test[:5]: ',y_test[:5])"
      ],
      "execution_count": 60,
      "outputs": [
        {
          "output_type": "stream",
          "text": [
            "Epoch 1/10\n",
            "13/13 - 1s - loss: 0.6691 - acc: 0.6346 - val_loss: 0.5741 - val_acc: 0.9231\n",
            "Epoch 2/10\n",
            "13/13 - 0s - loss: 0.4520 - acc: 0.8929 - val_loss: 0.2419 - val_acc: 0.9231\n",
            "Epoch 3/10\n",
            "13/13 - 0s - loss: 0.2732 - acc: 0.9093 - val_loss: 0.1274 - val_acc: 0.9560\n",
            "Epoch 4/10\n",
            "13/13 - 0s - loss: 0.1753 - acc: 0.9341 - val_loss: 0.0873 - val_acc: 0.9670\n",
            "Epoch 5/10\n",
            "13/13 - 0s - loss: 0.1409 - acc: 0.9258 - val_loss: 0.0705 - val_acc: 0.9670\n",
            "Epoch 6/10\n",
            "13/13 - 0s - loss: 0.0941 - acc: 0.9643 - val_loss: 0.0651 - val_acc: 0.9780\n",
            "Epoch 7/10\n",
            "13/13 - 0s - loss: 0.0674 - acc: 0.9780 - val_loss: 0.0441 - val_acc: 0.9780\n",
            "Epoch 8/10\n",
            "13/13 - 0s - loss: 0.0902 - acc: 0.9725 - val_loss: 0.0458 - val_acc: 0.9890\n",
            "Epoch 9/10\n",
            "13/13 - 0s - loss: 0.1834 - acc: 0.9258 - val_loss: 0.0873 - val_acc: 0.9560\n",
            "Epoch 10/10\n",
            "13/13 - 0s - loss: 0.0809 - acc: 0.9753 - val_loss: 0.0626 - val_acc: 0.9890\n",
            "12/12 [==============================] - 0s 1ms/step - loss: 0.1104 - acc: 0.9825\n",
            "loss:  [0.11036476492881775, 0.9824561476707458]\n",
            "WARNING:tensorflow:10 out of the last 11 calls to <function Model.make_predict_function.<locals>.predict_function at 0x7f27df96ee18> triggered tf.function retracing. Tracing is expensive and the excessive number of tracings could be due to (1) creating @tf.function repeatedly in a loop, (2) passing tensors with different shapes, (3) passing Python objects instead of tensors. For (1), please define your @tf.function outside of the loop. For (2), @tf.function has experimental_relax_shapes=True option that relaxes argument shapes that can avoid unnecessary retracing. For (3), please refer to https://www.tensorflow.org/guide/function#controlling_retracing and https://www.tensorflow.org/api_docs/python/tf/function for  more details.\n",
            "y_predict:  [0 1 1 1 0]\n",
            "y_test[:5]:  [[1. 0.]\n",
            " [0. 1.]\n",
            " [0. 1.]\n",
            " [0. 1.]\n",
            " [0. 1.]]\n"
          ],
          "name": "stdout"
        }
      ]
    }
  ]
}