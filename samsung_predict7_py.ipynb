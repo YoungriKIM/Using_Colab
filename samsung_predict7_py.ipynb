{
  "nbformat": 4,
  "nbformat_minor": 0,
  "metadata": {
    "colab": {
      "name": "samsung_predict7.py",
      "provenance": [],
      "collapsed_sections": [],
      "authorship_tag": "ABX9TyPVA4G0blflJ3EwHN3JvxKy",
      "include_colab_link": true
    },
    "kernelspec": {
      "name": "python3",
      "display_name": "Python 3"
    }
  },
  "cells": [
    {
      "cell_type": "markdown",
      "metadata": {
        "id": "view-in-github",
        "colab_type": "text"
      },
      "source": [
        "<a href=\"https://colab.research.google.com/github/YoungriKIM/Using_Colab/blob/main/samsung_predict7_py.ipynb\" target=\"_parent\"><img src=\"https://colab.research.google.com/assets/colab-badge.svg\" alt=\"Open In Colab\"/></a>"
      ]
    },
    {
      "cell_type": "code",
      "metadata": {
        "colab": {
          "base_uri": "https://localhost:8080/",
          "height": 163
        },
        "id": "Hx-j3XRxoEkq",
        "outputId": "b261b3e4-1ce4-4456-ea06-231705b7723f"
      },
      "source": [
        "# kodex 모델링\r\n",
        "\r\n",
        "import numpy as np\r\n",
        "import pandas as pd\r\n",
        "\r\n",
        "# 코덱스 데이터\r\n",
        "from google.colab import drive\r\n",
        "kodex = pd.read_csv('/content/drive/My Drive/colab_data/kodex_inverse.csv', index_col=0, header=0, encoding='cp949', thousands=',') \r\n",
        "\r\n",
        "# 삼성 데이터\r\n",
        "ss_y = np.load('/content/drive/My Drive/colab_data/samsung_y.npy', allow_pickle=True)\r\n",
        "# print(ss_y.shape)\r\n",
        "\r\n",
        "\r\n",
        "# 데이터 순서 역으로\r\n",
        "kodex = df.iloc[::-1].reset_index(drop=True)\r\n",
        "\r\n",
        "# 코덱스 맞춰서 삼성 자르기(y용_시가)\r\n",
        "ss_y = ss_y[-1088:]\r\n",
        "\r\n",
        "\r\n",
        "#데이터 지정\r\n",
        "\r\n",
        "x = ens1.iloc[86:-2, [0,1,2,3]]\r\n",
        "y = ss_y[88:]\r\n",
        "x_pred = ens1.iloc[-2:, [0,1,2,3]]\r\n",
        "\r\n",
        "# print(x.shape)         #(1000, 4)\r\n",
        "# print(y.shape)       #(1000,)\r\n",
        "# print(x_pred.shape)     #(2, 4)\r\n",
        "\r\n",
        "# 전처리: 2) minmax / 1) traintestsplit / 3) x 3차원 변환\r\n",
        "\r\n",
        "from sklearn.model_selection import train_test_split\r\n",
        "x_train, x_test, y_train, y_test = train_test_split(x, y, train_size=0.8, shuffle=True, random_state=311)\r\n",
        "from sklearn.model_selection import train_test_split\r\n",
        "x_train, x_val, y_train, y_val = train_test_split(x_train, y_train, train_size=0.8, shuffle=True, random_state=311)\r\n",
        "\r\n",
        "# x_pred = x_pred.values.reshape(1,-1)\r\n",
        "\r\n",
        "from sklearn.preprocessing import MinMaxScaler\r\n",
        "scaler = MinMaxScaler()\r\n",
        "scaler.fit(x_train)\r\n",
        "x_train = scaler.transform(x_train)\r\n",
        "x_val = scaler.transform(x_val)\r\n",
        "x_test = scaler.transform(x_test)\r\n",
        "x_pred = scaler.transform(x_pred)\r\n",
        "\r\n",
        "a = 2\r\n",
        "x_train = x_train.reshape(int(x_train.shape[0]/a), x_train.shape[1], 1*a)\r\n",
        "x_val = x_val.reshape(int(x_val.shape[0]/a), x_val.shape[1], 1*a)\r\n",
        "x_test = x_test.reshape(int(x_test.shape[0]/a), x_test.shape[1], 1*a)\r\n",
        "x_pred = x_pred.reshape(int(x_pred.shape[0]/a), x_pred.shape[1], 1*a)\r\n",
        "              \r\n",
        "y_train = y_train.reshape(int(y_train.shape[0]/a),1*a)\r\n",
        "y_val = y_val.reshape(int(y_val.shape[0]/a),1*a)\r\n",
        "y_test = y_test.reshape(int(y_test.shape[0]/a),1*a)\r\n",
        "\r\n",
        "np.save('/content/drive/My Drive/colab_data/ensemble_data_kodex.npy', arr=[x_train, y_train, x_val, y_val, x_test, y_test, x_pred])\r\n",
        "\r\n",
        "'''\r\n",
        "#2. 모델구성\r\n",
        "from tensorflow.keras.models import Sequential, Model\r\n",
        "from tensorflow.keras.layers import Dense, Input, Dropout, Conv1D, Flatten, MaxPooling1D, LSTM, GRU, LeakyReLU\r\n",
        "\r\n",
        "model = Sequential()\r\n",
        "model.add(Conv1D(filters = 400, kernel_size = 2, strides=1, padding = 'same', input_shape = (x_train.shape[1], x_train.shape[2]), activation='relu'))\r\n",
        "model.add(MaxPooling1D(pool_size=2))\r\n",
        "model.add(Conv1D(200, 2, padding='same'))\r\n",
        "model.add(Flatten())\r\n",
        "model.add(Dense(32))\r\n",
        "model.add(Dense(24))\r\n",
        "model.add(Dense(16))\r\n",
        "model.add(Dense(16))\r\n",
        "model.add(Dense(8))\r\n",
        "model.add(Dense(4))\r\n",
        "model.add(Dense(2))\r\n",
        "\r\n",
        "\r\n",
        "#3. 컴파일, 핏\r\n",
        "model.compile(loss='mse', optimizer='adam', metrics=['mae'])\r\n",
        "\r\n",
        "from tensorflow.keras.callbacks import EarlyStopping, ModelCheckpoint\r\n",
        "stop = EarlyStopping(monitor='val_loss', patience=16, mode='min')\r\n",
        "\r\n",
        "# modelpath = '../data/modelcheckpoint/samsung2_{epoch:02d}-{val_loss:08f}.hdf5'\r\n",
        "# check = ModelCheckpoint(filepath=modelpath, monitor='val_loss', save_best_only=True, mode='auto')\r\n",
        "\r\n",
        "hist = model.fit(x_train, y_train, epochs=20, batch_size=4, validation_data=(x_val, y_val), verbose=1, callbacks=[stop])#, check])\r\n",
        "\r\n",
        "#4. 평가, 예측\r\n",
        "result = model.evaluate(x_test, y_test, batch_size=4)\r\n",
        "print('mse: ', format(result[0], ','))\r\n",
        "print('mae: ', format(result[1], ','))\r\n",
        "\r\n",
        "y_pred = model.predict(x_pred)\r\n",
        "print('1/19일 삼성주식 시가는: ', y_pred, '입니다.')\r\n",
        "\r\n",
        "\r\n",
        "#conv1d\r\n",
        "# batch 4,4 mse:  37,099,376.0\r\n",
        "# mse:  34,878,004.0\r\n",
        "# mse:  33,566,772.0\r\n",
        "# mse:  38,221,568.0\r\n",
        "# mse:  35,828,064.0\r\n",
        "\r\n",
        "'''\r\n",
        "\r\n"
      ],
      "execution_count": 131,
      "outputs": [
        {
          "output_type": "stream",
          "text": [
            "/usr/local/lib/python3.6/dist-packages/numpy/core/_asarray.py:136: VisibleDeprecationWarning: Creating an ndarray from ragged nested sequences (which is a list-or-tuple of lists-or-tuples-or ndarrays with different lengths or shapes) is deprecated. If you meant to do this, you must specify 'dtype=object' when creating the ndarray\n",
            "  return array(a, dtype, copy=False, order=order, subok=True)\n"
          ],
          "name": "stderr"
        },
        {
          "output_type": "execute_result",
          "data": {
            "application/vnd.google.colaboratory.intrinsic+json": {
              "type": "string"
            },
            "text/plain": [
              "\"\\n#2. 모델구성\\nfrom tensorflow.keras.models import Sequential, Model\\nfrom tensorflow.keras.layers import Dense, Input, Dropout, Conv1D, Flatten, MaxPooling1D, LSTM, GRU, LeakyReLU\\n\\nmodel = Sequential()\\nmodel.add(Conv1D(filters = 400, kernel_size = 2, strides=1, padding = 'same', input_shape = (x_train.shape[1], x_train.shape[2]), activation='relu'))\\nmodel.add(MaxPooling1D(pool_size=2))\\nmodel.add(Conv1D(200, 2, padding='same'))\\nmodel.add(Flatten())\\nmodel.add(Dense(32))\\nmodel.add(Dense(24))\\nmodel.add(Dense(16))\\nmodel.add(Dense(16))\\nmodel.add(Dense(8))\\nmodel.add(Dense(4))\\nmodel.add(Dense(2))\\n\\n\\n#3. 컴파일, 핏\\nmodel.compile(loss='mse', optimizer='adam', metrics=['mae'])\\n\\nfrom tensorflow.keras.callbacks import EarlyStopping, ModelCheckpoint\\nstop = EarlyStopping(monitor='val_loss', patience=16, mode='min')\\n\\n# modelpath = '../data/modelcheckpoint/samsung2_{epoch:02d}-{val_loss:08f}.hdf5'\\n# check = ModelCheckpoint(filepath=modelpath, monitor='val_loss', save_best_only=True, mode='auto')\\n\\nhist = model.fit(x_train, y_train, epochs=20, batch_size=4, validation_data=(x_val, y_val), verbose=1, callbacks=[stop])#, check])\\n\\n#4. 평가, 예측\\nresult = model.evaluate(x_test, y_test, batch_size=4)\\nprint('mse: ', format(result[0], ','))\\nprint('mae: ', format(result[1], ','))\\n\\ny_pred = model.predict(x_pred)\\nprint('1/19일 삼성주식 시가는: ', y_pred, '입니다.')\\n\\n\\n#conv1d\\n# batch 4,4 mse:  37,099,376.0\\n# mse:  34,878,004.0\\n# mse:  33,566,772.0\\n# mse:  38,221,568.0\\n# mse:  35,828,064.0\\n\\n\""
            ]
          },
          "metadata": {
            "tags": []
          },
          "execution_count": 131
        }
      ]
    }
  ]
}