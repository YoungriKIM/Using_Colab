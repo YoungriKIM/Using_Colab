{
  "nbformat": 4,
  "nbformat_minor": 0,
  "metadata": {
    "colab": {
      "name": "m17_nested_cv.py",
      "provenance": [],
      "authorship_tag": "ABX9TyO6DiwBMZFonsnCiUA2FnC+",
      "include_colab_link": true
    },
    "kernelspec": {
      "name": "python3",
      "display_name": "Python 3"
    },
    "accelerator": "GPU"
  },
  "cells": [
    {
      "cell_type": "markdown",
      "metadata": {
        "id": "view-in-github",
        "colab_type": "text"
      },
      "source": [
        "<a href=\"https://colab.research.google.com/github/YoungriKIM/Using_Colab/blob/main/m17_nested_cv_py.ipynb\" target=\"_parent\"><img src=\"https://colab.research.google.com/assets/colab-badge.svg\" alt=\"Open In Colab\"/></a>"
      ]
    },
    {
      "cell_type": "code",
      "metadata": {
        "id": "zehfyJLWiZpX"
      },
      "source": [
        "import numpy as np\r\n",
        "from sklearn.datasets import load_iris\r\n",
        "from sklearn.preprocessing import MinMaxScaler, StandardScaler\r\n",
        "from sklearn.model_selection import train_test_split, KFold, cross_val_score\r\n",
        "from sklearn.model_selection import GridSearchCV, RandomizedSearchCV\r\n",
        "from sklearn.metrics import accuracy_score\r\n",
        "\r\n",
        "from sklearn.svm import LinearSVC, SVC\r\n",
        "from sklearn.neighbors import KNeighborsClassifier\r\n",
        "from sklearn.linear_model import LogisticRegression \r\n",
        "from sklearn.tree import DecisionTreeClassifier\r\n",
        "from sklearn.ensemble import RandomForestClassifier\r\n",
        "\r\n",
        "import warnings\r\n",
        "# warnings.filterwarnings('ignore')\r\n",
        "\r\n",
        "dataset = load_iris()\r\n",
        "x = dataset.data\r\n",
        "y = dataset.target\r\n",
        "\r\n",
        "kfold = KFold(n_splits=5, shuffle=True)\r\n",
        "\r\n",
        "parameters = [\r\n",
        "    {'n_estimators' : [100,200],\r\n",
        "    'max_depth' : [6,8,10,12],\r\n",
        "    'min_samples_leaf' : [3,5,7,10],\r\n",
        "    'min_samples_split' : [2,3,5,10],\r\n",
        "    'n_jobs' : [-1]}]\r\n",
        "\r\n",
        "#2. 모델\r\n",
        "model = GridSearchCV(RandomForestClassifier(), parameters, cv = kfold)\r\n",
        "score = cross_val_score(model, x, y, cv = kfold)\r\n",
        "\r\n",
        "print('nested score: ', score)\r\n"
      ],
      "execution_count": null,
      "outputs": []
    }
  ]
}