{
  "nbformat": 4,
  "nbformat_minor": 0,
  "metadata": {
    "colab": {
      "name": "keras40_mnist3_dnn_re.py",
      "provenance": [],
      "collapsed_sections": [],
      "machine_shape": "hm",
      "authorship_tag": "ABX9TyPTHrlUeWWKV1yEPGzdHVbF",
      "include_colab_link": true
    },
    "kernelspec": {
      "name": "python3",
      "display_name": "Python 3"
    }
  },
  "cells": [
    {
      "cell_type": "markdown",
      "metadata": {
        "id": "view-in-github",
        "colab_type": "text"
      },
      "source": [
        "<a href=\"https://colab.research.google.com/github/YoungriKIM/Using_Colab/blob/main/keras40_mnist3_dnn_re_py.ipynb\" target=\"_parent\"><img src=\"https://colab.research.google.com/assets/colab-badge.svg\" alt=\"Open In Colab\"/></a>"
      ]
    },
    {
      "cell_type": "code",
      "metadata": {
        "id": "7FZDlNGufCzN"
      },
      "source": [
        "# 주말 과제\r\n",
        "# DNN 모델으로 구성할 것 / (N, 28, 28) = (N ,28*28) = (N, 728) / input_shape = (28*28,)\r\n",
        "\r\n",
        "import numpy as np\r\n",
        "\r\n",
        "#1. 데이터 불러오기\r\n",
        "from tensorflow.keras.datasets import mnist\r\n",
        "(x_train, y_train), (x_test, y_test) = mnist.load_data()\r\n",
        "\r\n",
        "# print(x_train.shape, y_train.shape)     #(60000, 28, 28) (60000,)\r\n",
        "# print(x_test.shape, y_test.shape)       #(10000, 28, 28) (10000,)\r\n",
        "\r\n",
        "from tensorflow.keras.utils import to_categorical\r\n",
        "y_train = to_categorical(y_train)\r\n",
        "y_test = to_categorical(y_test)\r\n",
        "\r\n",
        "# print(y_train.shape, y_test.shape)      #(60000, 10) (10000, 10)\r\n",
        "\r\n",
        "x_train = x_train.reshape(x_train.shape[0], x_train.shape[1]*x_train.shape[2])\r\n",
        "x_test = x_test.reshape(x_test.shape[0], x_test.shape[1]*x_test.shape[2])\r\n",
        "\r\n",
        "# print(x_train.shape, x_test.shape)      #(60000, 784) (10000, 784)\r\n",
        "\r\n",
        "from sklearn.preprocessing import MinMaxScaler\r\n",
        "scaler = MinMaxScaler()\r\n",
        "scaler.fit(x_train)\r\n",
        "x_train = scaler.transform(x_train)\r\n",
        "x_test = scaler.transform(x_test)\r\n",
        "\r\n",
        "#2. 모델 구성\r\n",
        "from tensorflow.keras.models import Sequential\r\n",
        "from tensorflow.keras.layers import Dense, Dropout\r\n",
        "\r\n",
        "model = Sequential()\r\n",
        "model.add(Dense(200, input_shape=(784, ), activation='relu'))\r\n",
        "model.add(Dropout(0.2))\r\n",
        "model.add(Dense(160, activation='relu'))\r\n",
        "model.add(Dense(80))\r\n",
        "model.add(Dense(80))\r\n",
        "model.add(Dense(40))\r\n",
        "model.add(Dense(10))\r\n",
        "\r\n",
        "#3. 컴파일, 훈련\r\n",
        "model.compile(loss='mse', optimizer='adam')\r\n",
        "\r\n",
        "from tensorflow.keras.callbacks import EarlyStopping\r\n",
        "stop = EarlyStopping(monitor='loss', patience=20, mode='min')\r\n",
        "\r\n",
        "model.fit(x_train, y_train, epochs=1000, batch_size=69, validation_split=0.2, verbose=2, callbacks=[stop])\r\n",
        "\r\n",
        "#. 평가, 예측\r\n",
        "loss = model.evaluate(x_test, y_test, batch_size=69)\r\n",
        "print('loss: ', loss)\r\n",
        "\r\n",
        "y_pred = model.predict(x_test[:10])\r\n",
        "print('y_pred: ', y_pred.argmax(axis=1))\r\n",
        "print('y_test: ', y_test[:10].argmax(axis=1))\r\n",
        "\r\n",
        "# 40-3 mnist DNN \r\n",
        "# loss:  0.003270471468567848\r\n",
        "# y_pred:  [7 2 1 0 4 1 4 9 6 9]\r\n",
        "# y_test:  [7 2 1 0 4 1 4 9 5 9]"
      ],
      "execution_count": null,
      "outputs": []
    }
  ]
}