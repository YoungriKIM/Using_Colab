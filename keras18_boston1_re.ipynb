{
  "nbformat": 4,
  "nbformat_minor": 0,
  "metadata": {
    "colab": {
      "name": "keras18_boston1_re.ipynb",
      "provenance": [],
      "authorship_tag": "ABX9TyMV6VDuBSE8rLTYTpq638oT",
      "include_colab_link": true
    },
    "kernelspec": {
      "display_name": "Python 3",
      "name": "python3"
    }
  },
  "cells": [
    {
      "cell_type": "markdown",
      "metadata": {
        "id": "view-in-github",
        "colab_type": "text"
      },
      "source": [
        "<a href=\"https://colab.research.google.com/github/YoungriKIM/Using_Colab/blob/main/keras18_boston1_re.ipynb\" target=\"_parent\"><img src=\"https://colab.research.google.com/assets/colab-badge.svg\" alt=\"Open In Colab\"/></a>"
      ]
    },
    {
      "cell_type": "code",
      "metadata": {
        "id": "LEGLlROblQVu"
      },
      "source": [
        "import numpy as np\r\n",
        "\r\n",
        "#보스턴 주택 가격 불러오기 \r\n",
        "from sklearn.datasets import load_boston\r\n",
        "\r\n",
        "dataset = load_boston()\r\n",
        "x = dataset.data\r\n",
        "y = dataset.target\r\n",
        "\r\n",
        "print(x.shape) #(506,13)\r\n",
        "print(y.shape) #(506,)\r\n",
        "\r\n",
        "#트레인과 테스트 나누기\r\n",
        "from sklearn.model_selection import train_test_split\r\n",
        "x_train, x_test, y_train, y_test = train_test_split(x, y, train_size=0.8, shuffle=True, random_state=311)\r\n",
        "\r\n",
        "#모델 구성하기 _함수형으로\r\n",
        "from tensorflow.keras.models import Sequential, Model\r\n",
        "from tensorflow.keras.layers import Dense, Input\r\n",
        "\r\n",
        "input1 = Input(shape(13,))\r\n",
        "dense1 = Dense(56)(input1)\r\n",
        "dense1 = Dense(28)(dense1)\r\n",
        "dense1 = Dense(56)(input1)\r\n",
        "dense1 = Dense(28)(dense1)\r\n",
        "dense1 = Dense(56)(input1)\r\n",
        "output1 = Dense(1)(dense1)\r\n",
        "\r\n",
        "model = Model(inputs=input1, outputs=output1)\r\n",
        "\r\n",
        "#컴파일, 훈련\r\n",
        "model.compile(loss='mse', optimizer='adam',metrics=['mae'])\r\n",
        "model.fit(x_train, y_train, epochs=100, batch_size=4, validation_split=0.2, verbose=2)\r\n",
        "\r\n",
        "#평가, 예측\r\n",
        "loss, mae = model.evaluate(x_test, y_test, batch_size=1)\r\n",
        "print('loss, mae: ',loss, mae)\r\n",
        "\r\n",
        "y_predict = model.predict(x_test)\r\n",
        "\r\n",
        "from sklearn.metrics import mean_squared_error\r\n",
        "def EMSE(y_test, y_predict):\r\n",
        "  return np.sqrt(mean_squared_error(y_test, y_predict))\r\n",
        "print('RMSE: ', RMSE(y_test, y_predict)\r\n",
        "\r\n",
        "\r\n",
        "\r\n"
      ],
      "execution_count": null,
      "outputs": []
    }
  ]
}